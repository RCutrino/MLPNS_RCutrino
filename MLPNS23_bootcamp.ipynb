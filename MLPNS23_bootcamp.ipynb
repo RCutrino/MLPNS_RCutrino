{
  "nbformat": 4,
  "nbformat_minor": 0,
  "metadata": {
    "colab": {
      "provenance": [],
      "authorship_tag": "ABX9TyO9J6d3jhqsUwQenEh8k9bK",
      "include_colab_link": true
    },
    "kernelspec": {
      "name": "python3",
      "display_name": "Python 3"
    },
    "language_info": {
      "name": "python"
    }
  },
  "cells": [
    {
      "cell_type": "markdown",
      "metadata": {
        "id": "view-in-github",
        "colab_type": "text"
      },
      "source": [
        "<a href=\"https://colab.research.google.com/github/RCutrino/MLPNS_RCutrino/blob/main/MLPNS23_bootcamp.ipynb\" target=\"_parent\"><img src=\"https://colab.research.google.com/assets/colab-badge.svg\" alt=\"Open In Colab\"/></a>"
      ]
    },
    {
      "cell_type": "markdown",
      "source": [
        "#Native variable"
      ],
      "metadata": {
        "id": "9DPadIxg7BBU"
      }
    },
    {
      "cell_type": "markdown",
      "source": [
        "##integers"
      ],
      "metadata": {
        "id": "5s3DLdrV7MVn"
      }
    },
    {
      "cell_type": "code",
      "execution_count": null,
      "metadata": {
        "id": "iO1tOC_A0dJo"
      },
      "outputs": [],
      "source": [
        "intVar=3"
      ]
    },
    {
      "cell_type": "code",
      "source": [
        "type(intVar)"
      ],
      "metadata": {
        "colab": {
          "base_uri": "https://localhost:8080/"
        },
        "id": "CSbBPVc132Kf",
        "outputId": "52990082-e8c3-430b-ca8b-49d02538ff65"
      },
      "execution_count": null,
      "outputs": [
        {
          "output_type": "execute_result",
          "data": {
            "text/plain": [
              "int"
            ]
          },
          "metadata": {},
          "execution_count": 5
        }
      ]
    },
    {
      "cell_type": "markdown",
      "source": [
        "## float"
      ],
      "metadata": {
        "id": "dQ-XkbLbjO_H"
      }
    },
    {
      "cell_type": "code",
      "source": [
        "floatVar=3.0"
      ],
      "metadata": {
        "id": "8ydoWn6I34Co"
      },
      "execution_count": null,
      "outputs": []
    },
    {
      "cell_type": "code",
      "source": [
        "type(floatVar)"
      ],
      "metadata": {
        "colab": {
          "base_uri": "https://localhost:8080/"
        },
        "id": "387KNOTv36Zx",
        "outputId": "46acd0f6-9e41-4219-f6bf-93390554931a"
      },
      "execution_count": null,
      "outputs": [
        {
          "output_type": "execute_result",
          "data": {
            "text/plain": [
              "float"
            ]
          },
          "metadata": {},
          "execution_count": 6
        }
      ]
    },
    {
      "cell_type": "code",
      "source": [
        "float2Var = float(intVar)"
      ],
      "metadata": {
        "id": "W7YmiqYk4BiS"
      },
      "execution_count": null,
      "outputs": []
    },
    {
      "cell_type": "code",
      "source": [
        "type(float2Var)"
      ],
      "metadata": {
        "colab": {
          "base_uri": "https://localhost:8080/"
        },
        "id": "muk9fXTY4HeB",
        "outputId": "27e4e99b-04d4-423f-fc79-eb0dbfb6affa"
      },
      "execution_count": null,
      "outputs": [
        {
          "output_type": "execute_result",
          "data": {
            "text/plain": [
              "float"
            ]
          },
          "metadata": {},
          "execution_count": 8
        }
      ]
    },
    {
      "cell_type": "code",
      "source": [
        "intVar * floatVar "
      ],
      "metadata": {
        "colab": {
          "base_uri": "https://localhost:8080/"
        },
        "id": "VIt8-0Iw4KYS",
        "outputId": "d81eabfc-b334-4899-8423-148885ad2dfc"
      },
      "execution_count": null,
      "outputs": [
        {
          "output_type": "execute_result",
          "data": {
            "text/plain": [
              "9.0"
            ]
          },
          "metadata": {},
          "execution_count": 9
        }
      ]
    },
    {
      "cell_type": "code",
      "source": [
        "intVar * floatVar == 9\n",
        "#chiedo di verificare l'uguaglianza"
      ],
      "metadata": {
        "colab": {
          "base_uri": "https://localhost:8080/"
        },
        "id": "0nyVj2Gd4OGA",
        "outputId": "9fbf08fd-9cb0-4730-c676-89e750a2d35c"
      },
      "execution_count": null,
      "outputs": [
        {
          "output_type": "execute_result",
          "data": {
            "text/plain": [
              "True"
            ]
          },
          "metadata": {},
          "execution_count": 11
        }
      ]
    },
    {
      "cell_type": "code",
      "source": [
        "intVar /2"
      ],
      "metadata": {
        "colab": {
          "base_uri": "https://localhost:8080/"
        },
        "id": "bEdY3xOY4S_c",
        "outputId": "1386e054-84c4-44d9-bb8f-46524e6310f5"
      },
      "execution_count": null,
      "outputs": [
        {
          "output_type": "execute_result",
          "data": {
            "text/plain": [
              "1.5"
            ]
          },
          "metadata": {},
          "execution_count": 12
        }
      ]
    },
    {
      "cell_type": "code",
      "source": [
        "intVar + floatVar"
      ],
      "metadata": {
        "colab": {
          "base_uri": "https://localhost:8080/"
        },
        "id": "MjjMnQKc4m4O",
        "outputId": "d0c8fd5d-79c6-4439-a620-34946d77680b"
      },
      "execution_count": null,
      "outputs": [
        {
          "output_type": "execute_result",
          "data": {
            "text/plain": [
              "6.0"
            ]
          },
          "metadata": {},
          "execution_count": 13
        }
      ]
    },
    {
      "cell_type": "code",
      "source": [
        "intVar + floatVar - intVar/2\n",
        "#moltiplicazioni e divisioni si fanno prima delle somme"
      ],
      "metadata": {
        "colab": {
          "base_uri": "https://localhost:8080/"
        },
        "id": "-yYhV2Nf4qPK",
        "outputId": "701028be-1a1f-40dc-fa0a-8b5e296ddbdb"
      },
      "execution_count": null,
      "outputs": [
        {
          "output_type": "execute_result",
          "data": {
            "text/plain": [
              "4.5"
            ]
          },
          "metadata": {},
          "execution_count": 15
        }
      ]
    },
    {
      "cell_type": "markdown",
      "source": [
        "##strings"
      ],
      "metadata": {
        "id": "zIyYeJcj7P_M"
      }
    },
    {
      "cell_type": "code",
      "source": [
        "print(\"hello world\")\n",
        "#per scrivere a capo si utilizzano le tre virgolette:\n",
        "# print('''xx\n",
        "# xxx''')"
      ],
      "metadata": {
        "colab": {
          "base_uri": "https://localhost:8080/"
        },
        "id": "XrBlH0Zc4tZo",
        "outputId": "8f82200f-4ff2-432e-b852-ed2d7ce5b7f3"
      },
      "execution_count": null,
      "outputs": [
        {
          "output_type": "stream",
          "name": "stdout",
          "text": [
            "hello world\n"
          ]
        }
      ]
    },
    {
      "cell_type": "code",
      "source": [
        "strVar = 'Hello world'"
      ],
      "metadata": {
        "id": "q6eERgC85nhA"
      },
      "execution_count": null,
      "outputs": []
    },
    {
      "cell_type": "code",
      "source": [
        "print(strVar)"
      ],
      "metadata": {
        "colab": {
          "base_uri": "https://localhost:8080/"
        },
        "id": "G3ZGC9f56st8",
        "outputId": "e21a5c4f-d963-4091-824d-c04e712d3f3e"
      },
      "execution_count": null,
      "outputs": [
        {
          "output_type": "stream",
          "name": "stdout",
          "text": [
            "Hello world\n"
          ]
        }
      ]
    },
    {
      "cell_type": "markdown",
      "source": [
        "##boolean variables"
      ],
      "metadata": {
        "id": "-IAmW9dx7Tta"
      }
    },
    {
      "cell_type": "code",
      "source": [
        "True"
      ],
      "metadata": {
        "colab": {
          "base_uri": "https://localhost:8080/"
        },
        "id": "HCycz41s6vG4",
        "outputId": "8aabffec-7e41-4350-9160-a04206b55840"
      },
      "execution_count": null,
      "outputs": [
        {
          "output_type": "execute_result",
          "data": {
            "text/plain": [
              "True"
            ]
          },
          "metadata": {},
          "execution_count": 20
        }
      ]
    },
    {
      "cell_type": "code",
      "source": [
        "False"
      ],
      "metadata": {
        "colab": {
          "base_uri": "https://localhost:8080/"
        },
        "id": "id65g4Gd7eVQ",
        "outputId": "322d6a7c-8227-46f3-efe1-553dfd40613f"
      },
      "execution_count": null,
      "outputs": [
        {
          "output_type": "execute_result",
          "data": {
            "text/plain": [
              "False"
            ]
          },
          "metadata": {},
          "execution_count": 21
        }
      ]
    },
    {
      "cell_type": "code",
      "source": [
        "if True:\n",
        "  print(\"this is true\")\n",
        "  print(intVar * floatVar)\n",
        "  #i due punti finiscono l'if"
      ],
      "metadata": {
        "colab": {
          "base_uri": "https://localhost:8080/"
        },
        "id": "adJX9FYG7fPW",
        "outputId": "2c114c64-d3ed-4b38-b9f2-d562bcbc157c"
      },
      "execution_count": null,
      "outputs": [
        {
          "output_type": "stream",
          "name": "stdout",
          "text": [
            "this is true\n",
            "9.0\n"
          ]
        }
      ]
    },
    {
      "cell_type": "code",
      "source": [
        "if False:\n",
        "  print(\"this is true\")\n",
        "  print(intVar * floatVar)\n",
        "else:\n",
        "  print(\"condition was false\")"
      ],
      "metadata": {
        "colab": {
          "base_uri": "https://localhost:8080/"
        },
        "id": "E3XoRKp576gX",
        "outputId": "e729091a-0c52-405a-d711-b54977fc5a46"
      },
      "execution_count": null,
      "outputs": [
        {
          "output_type": "stream",
          "name": "stdout",
          "text": [
            "condition was false\n"
          ]
        }
      ]
    },
    {
      "cell_type": "code",
      "source": [
        "intVar = floatVar\n",
        "#metto in intVar il floatVar -> cambio l'assignement nella variabile intVar"
      ],
      "metadata": {
        "id": "8YymKZ5X8aAr"
      },
      "execution_count": null,
      "outputs": []
    },
    {
      "cell_type": "code",
      "source": [
        "intVar == floatVar\n",
        "#chiedo se sono uguali"
      ],
      "metadata": {
        "colab": {
          "base_uri": "https://localhost:8080/"
        },
        "id": "UaMBqzT-8lMA",
        "outputId": "534f6eb0-e9ef-4dd4-dad3-ea8fe744bd77"
      },
      "execution_count": null,
      "outputs": [
        {
          "output_type": "execute_result",
          "data": {
            "text/plain": [
              "True"
            ]
          },
          "metadata": {},
          "execution_count": 31
        }
      ]
    },
    {
      "cell_type": "code",
      "source": [
        "if intVar == floatVar:\n",
        "  print(\"this is true\")\n",
        "  print(intVar * floatVar)\n",
        "else:\n",
        "  print(\"condition was false\")"
      ],
      "metadata": {
        "colab": {
          "base_uri": "https://localhost:8080/"
        },
        "id": "ie1nWHq782iT",
        "outputId": "e389f021-d6e9-41f9-9d8a-983f38d603fa"
      },
      "execution_count": null,
      "outputs": [
        {
          "output_type": "stream",
          "name": "stdout",
          "text": [
            "this is true\n",
            "9.0\n"
          ]
        }
      ]
    },
    {
      "cell_type": "code",
      "source": [
        "if intVar > floatVar:\n",
        "  print(\"this is true\")\n",
        "  print(intVar * floatVar)\n",
        "else:\n",
        "  print(\"condition was false\")"
      ],
      "metadata": {
        "colab": {
          "base_uri": "https://localhost:8080/"
        },
        "id": "52dbpB0M9lIS",
        "outputId": "1c562c98-fb11-42d0-d94c-f1abd46936b5"
      },
      "execution_count": null,
      "outputs": [
        {
          "output_type": "stream",
          "name": "stdout",
          "text": [
            "condition was false\n"
          ]
        }
      ]
    },
    {
      "cell_type": "code",
      "source": [
        "# == is equal?\n",
        "print(intVar == floatVar)\n",
        "# > greater\n",
        "print(intVar > floatVar)\n",
        "# > grater\n",
        "print(intVar < floatVar)\n",
        "#!= not equal\n",
        "print(intVar != floatVar)"
      ],
      "metadata": {
        "colab": {
          "base_uri": "https://localhost:8080/"
        },
        "id": "JqZM19r49qEC",
        "outputId": "165d1c1c-5298-4241-c656-ea415072c932"
      },
      "execution_count": null,
      "outputs": [
        {
          "output_type": "stream",
          "name": "stdout",
          "text": [
            "True\n",
            "False\n",
            "False\n",
            "False\n"
          ]
        }
      ]
    },
    {
      "cell_type": "code",
      "source": [
        "# | is logical OR\n",
        "(intVar > floatVar) | (intVar == floatVar)\n",
        "# & is logical AND\n",
        "(intVar > floatVar) & (intVar == floatVar)"
      ],
      "metadata": {
        "colab": {
          "base_uri": "https://localhost:8080/"
        },
        "id": "o34wCxcj-Cbt",
        "outputId": "17ba3a33-dd41-474d-e1b8-81ec5e0ba9e6"
      },
      "execution_count": null,
      "outputs": [
        {
          "output_type": "execute_result",
          "data": {
            "text/plain": [
              "False"
            ]
          },
          "metadata": {},
          "execution_count": 36
        }
      ]
    },
    {
      "cell_type": "code",
      "source": [
        "False == 0"
      ],
      "metadata": {
        "colab": {
          "base_uri": "https://localhost:8080/"
        },
        "id": "__kSYGSU-duO",
        "outputId": "73272d43-fbbf-4e6b-ae98-cd103c04da52"
      },
      "execution_count": null,
      "outputs": [
        {
          "output_type": "execute_result",
          "data": {
            "text/plain": [
              "True"
            ]
          },
          "metadata": {},
          "execution_count": 37
        }
      ]
    },
    {
      "cell_type": "code",
      "source": [
        "True == 1"
      ],
      "metadata": {
        "colab": {
          "base_uri": "https://localhost:8080/"
        },
        "id": "ARXK8RFY-js3",
        "outputId": "c599869f-25cc-4466-9bb7-474e0033a5e1"
      },
      "execution_count": null,
      "outputs": [
        {
          "output_type": "execute_result",
          "data": {
            "text/plain": [
              "True"
            ]
          },
          "metadata": {},
          "execution_count": 38
        }
      ]
    },
    {
      "cell_type": "code",
      "source": [
        "# ? is logical OR\n",
        "(intVar > floatVar) * (intVar == floatVar)"
      ],
      "metadata": {
        "colab": {
          "base_uri": "https://localhost:8080/"
        },
        "id": "vvCZKRMZ-k-M",
        "outputId": "f56205bc-d0a7-471c-8210-9d46fcba78af"
      },
      "execution_count": null,
      "outputs": [
        {
          "output_type": "execute_result",
          "data": {
            "text/plain": [
              "0"
            ]
          },
          "metadata": {},
          "execution_count": 39
        }
      ]
    },
    {
      "cell_type": "code",
      "source": [
        "# * is logical AND\n",
        "if (intVar > floatVar) * (intVar == floatVar):\n",
        "  print(\"True\")\n",
        "else:\n",
        "  print(\"False\")"
      ],
      "metadata": {
        "colab": {
          "base_uri": "https://localhost:8080/"
        },
        "id": "0XNS3PP0-5P2",
        "outputId": "df14429a-bde9-438b-c4dd-f0442662df7b"
      },
      "execution_count": null,
      "outputs": [
        {
          "output_type": "stream",
          "name": "stdout",
          "text": [
            "False\n"
          ]
        }
      ]
    },
    {
      "cell_type": "code",
      "source": [
        "# ? is logical OR\n",
        "if (intVar > floatVar) + (intVar == floatVar):\n",
        "  print(\"True\")\n",
        "else:\n",
        "  print(\"False\")"
      ],
      "metadata": {
        "colab": {
          "base_uri": "https://localhost:8080/"
        },
        "id": "82KFvArp_DVR",
        "outputId": "9a37999e-f336-42da-fc79-bf3ef97ba5e9"
      },
      "execution_count": null,
      "outputs": [
        {
          "output_type": "stream",
          "name": "stdout",
          "text": [
            "True\n"
          ]
        }
      ]
    },
    {
      "cell_type": "code",
      "source": [
        "# ? is logical OR\n",
        "if (intVar > floatVar) + (intVar == floatVar) + (intVar == 3):\n",
        "  print(\"True\")\n",
        "else:\n",
        "  print(\"False\")"
      ],
      "metadata": {
        "colab": {
          "base_uri": "https://localhost:8080/"
        },
        "id": "gArov0tq_RW6",
        "outputId": "54ce6d70-70a5-44b2-feb4-d13691628060"
      },
      "execution_count": null,
      "outputs": [
        {
          "output_type": "stream",
          "name": "stdout",
          "text": [
            "True\n"
          ]
        }
      ]
    },
    {
      "cell_type": "code",
      "source": [
        "for i in range(0, 10):\n",
        "  print(i)"
      ],
      "metadata": {
        "colab": {
          "base_uri": "https://localhost:8080/"
        },
        "id": "k34NuqLG_X8k",
        "outputId": "6abb2c11-da55-49ff-a9f4-2f4432835d07"
      },
      "execution_count": null,
      "outputs": [
        {
          "output_type": "stream",
          "name": "stdout",
          "text": [
            "0\n",
            "1\n",
            "2\n",
            "3\n",
            "4\n",
            "5\n",
            "6\n",
            "7\n",
            "8\n",
            "9\n"
          ]
        }
      ]
    },
    {
      "cell_type": "markdown",
      "source": [
        "##variable ad objects"
      ],
      "metadata": {
        "id": "fQa2bxNxCgRs"
      }
    },
    {
      "cell_type": "code",
      "source": [
        "strVar = 'hello world'"
      ],
      "metadata": {
        "id": "yCZsbqYtCjoo"
      },
      "execution_count": null,
      "outputs": []
    },
    {
      "cell_type": "code",
      "source": [
        "strVar.capitalize()"
      ],
      "metadata": {
        "colab": {
          "base_uri": "https://localhost:8080/",
          "height": 36
        },
        "id": "6wJ86_DHC_Aa",
        "outputId": "3a3dfd49-ac2d-42cb-a6fd-03d713b0bb50"
      },
      "execution_count": null,
      "outputs": [
        {
          "output_type": "execute_result",
          "data": {
            "text/plain": [
              "'Hello world'"
            ],
            "application/vnd.google.colaboratory.intrinsic+json": {
              "type": "string"
            }
          },
          "metadata": {},
          "execution_count": 49
        }
      ]
    },
    {
      "cell_type": "code",
      "source": [
        "strVar.upper()"
      ],
      "metadata": {
        "colab": {
          "base_uri": "https://localhost:8080/",
          "height": 36
        },
        "id": "w83IROlNDC5i",
        "outputId": "c8d634f3-1f74-4d57-9f66-2cc7faf2151a"
      },
      "execution_count": null,
      "outputs": [
        {
          "output_type": "execute_result",
          "data": {
            "text/plain": [
              "'HELLO WORLD'"
            ],
            "application/vnd.google.colaboratory.intrinsic+json": {
              "type": "string"
            }
          },
          "metadata": {},
          "execution_count": 50
        }
      ]
    },
    {
      "cell_type": "code",
      "source": [
        "strVar.isdigit()"
      ],
      "metadata": {
        "colab": {
          "base_uri": "https://localhost:8080/"
        },
        "id": "NenQ9eCODNRG",
        "outputId": "57f59a6f-c4d9-4d9d-a6f3-fd909cd23e6b"
      },
      "execution_count": null,
      "outputs": [
        {
          "output_type": "execute_result",
          "data": {
            "text/plain": [
              "False"
            ]
          },
          "metadata": {},
          "execution_count": 51
        }
      ]
    },
    {
      "cell_type": "code",
      "source": [
        "\"3\".isdigit()"
      ],
      "metadata": {
        "colab": {
          "base_uri": "https://localhost:8080/"
        },
        "id": "a5qrh0giDSl-",
        "outputId": "4d627bfd-59f5-4ffb-d158-a19bab30f016"
      },
      "execution_count": null,
      "outputs": [
        {
          "output_type": "execute_result",
          "data": {
            "text/plain": [
              "True"
            ]
          },
          "metadata": {},
          "execution_count": 52
        }
      ]
    },
    {
      "cell_type": "code",
      "source": [
        "floatVar.is_integer()"
      ],
      "metadata": {
        "colab": {
          "base_uri": "https://localhost:8080/"
        },
        "id": "p5G6eP6vDaNr",
        "outputId": "9c6c7c64-72bb-49dd-ddc6-f2e5633c9749"
      },
      "execution_count": null,
      "outputs": [
        {
          "output_type": "execute_result",
          "data": {
            "text/plain": [
              "True"
            ]
          },
          "metadata": {},
          "execution_count": 55
        }
      ]
    },
    {
      "cell_type": "markdown",
      "source": [
        "##list"
      ],
      "metadata": {
        "id": "78bU44OkEeo9"
      }
    },
    {
      "cell_type": "code",
      "source": [
        "listVar = [intVar, floatVar, strVar, 0, True]\n",
        "listVar"
      ],
      "metadata": {
        "colab": {
          "base_uri": "https://localhost:8080/"
        },
        "id": "S3Wk5FoLEksV",
        "outputId": "71cdcb6e-a8b3-4794-c372-f412b0bf9ef5"
      },
      "execution_count": null,
      "outputs": [
        {
          "output_type": "execute_result",
          "data": {
            "text/plain": [
              "[3, 3.0, 'hello world', 0, True]"
            ]
          },
          "metadata": {},
          "execution_count": 57
        }
      ]
    },
    {
      "cell_type": "code",
      "source": [
        "listVar.append(11)\n",
        "#funzione che aggiunge alla lista un elemento\n",
        "listVar"
      ],
      "metadata": {
        "colab": {
          "base_uri": "https://localhost:8080/"
        },
        "id": "5LntLYtBEzdO",
        "outputId": "79e74414-4a19-4aeb-c3ba-f8e9b56d38b0"
      },
      "execution_count": null,
      "outputs": [
        {
          "output_type": "execute_result",
          "data": {
            "text/plain": [
              "[3, 3.0, 'hello world', 0, True, 11]"
            ]
          },
          "metadata": {},
          "execution_count": 62
        }
      ]
    },
    {
      "cell_type": "code",
      "source": [
        "listVar.remove(11)\n",
        "listVar"
      ],
      "metadata": {
        "colab": {
          "base_uri": "https://localhost:8080/"
        },
        "id": "DSfT5ge5FEJY",
        "outputId": "51caf896-3719-4d86-efbf-b075e9d2004e"
      },
      "execution_count": null,
      "outputs": [
        {
          "output_type": "execute_result",
          "data": {
            "text/plain": [
              "[3, 3.0, 'hello world', 0, True]"
            ]
          },
          "metadata": {},
          "execution_count": 61
        }
      ]
    },
    {
      "cell_type": "code",
      "source": [
        "listVar[0]\n",
        "#ritorna il primo elemento della lista o stringa"
      ],
      "metadata": {
        "colab": {
          "base_uri": "https://localhost:8080/"
        },
        "id": "blN0NlPPFLqw",
        "outputId": "cf3b16e3-34aa-4b7a-b7c7-8239b040cfa5"
      },
      "execution_count": null,
      "outputs": [
        {
          "output_type": "execute_result",
          "data": {
            "text/plain": [
              "3"
            ]
          },
          "metadata": {},
          "execution_count": 64
        }
      ]
    },
    {
      "cell_type": "code",
      "source": [
        "'h' in strVar"
      ],
      "metadata": {
        "colab": {
          "base_uri": "https://localhost:8080/"
        },
        "id": "NAGq4qoUFTLE",
        "outputId": "49c951ad-7500-4c5a-f104-f3f188c04355"
      },
      "execution_count": null,
      "outputs": [
        {
          "output_type": "execute_result",
          "data": {
            "text/plain": [
              "True"
            ]
          },
          "metadata": {},
          "execution_count": 65
        }
      ]
    },
    {
      "cell_type": "code",
      "source": [
        "#si possono cambiare un elemento della lista, ciò non è permesso nelle stringhe\n",
        "listVar[2] = strVar\n",
        "listVar[1] = 9\n",
        "listVar"
      ],
      "metadata": {
        "colab": {
          "base_uri": "https://localhost:8080/"
        },
        "id": "wylqch0yFi8d",
        "outputId": "88ee7d2d-8fc3-41f2-e8e5-d5a5691a9236"
      },
      "execution_count": null,
      "outputs": [
        {
          "output_type": "execute_result",
          "data": {
            "text/plain": [
              "[3, 9, 'hello world', 0, True, 11]"
            ]
          },
          "metadata": {},
          "execution_count": 68
        }
      ]
    },
    {
      "cell_type": "markdown",
      "source": [
        "# Esercizio"
      ],
      "metadata": {
        "id": "nGxRVXRyF_fO"
      }
    },
    {
      "cell_type": "code",
      "source": [
        "target = ['p','r','o','v','a'] #in alternativa si può usare il comando list(\"prova\")\n",
        "print(target)\n",
        "guess = ['g','a','t','t','o']\n",
        "print(guess)\n",
        "result = ['_','_','_','_','_']\n",
        "\n",
        "for i in range(5):\n",
        "  if guess[i] == target[i]:\n",
        "    result[i] = guess[i]\n",
        "  else:\n",
        "    if guess[i] in target:\n",
        "      result[i] = '*'\n",
        "print(result) \n",
        "''.join(result)\n"
      ],
      "metadata": {
        "colab": {
          "base_uri": "https://localhost:8080/",
          "height": 88
        },
        "id": "QpTeO42bGD31",
        "outputId": "db35e42d-6085-40ce-d519-3417be58999e"
      },
      "execution_count": null,
      "outputs": [
        {
          "output_type": "stream",
          "name": "stdout",
          "text": [
            "['p', 'r', 'o', 'v', 'a']\n",
            "['g', 'a', 't', 't', 'o']\n",
            "['_', '*', '_', '_', '*']\n"
          ]
        },
        {
          "output_type": "execute_result",
          "data": {
            "text/plain": [
              "'_*__*'"
            ],
            "application/vnd.google.colaboratory.intrinsic+json": {
              "type": "string"
            }
          },
          "metadata": {},
          "execution_count": 81
        }
      ]
    },
    {
      "cell_type": "code",
      "source": [
        "target = list(\"acres\")\n",
        "print(target)\n",
        "guess = list(\"Acres\")\n",
        "print(guess)\n",
        "result = list(\"_____\")\n",
        "\n",
        "for i in range(5):\n",
        "  if guess[i] == target[i]:\n",
        "    result[i] = guess[i]\n",
        "  else:\n",
        "    if guess[i] in target:\n",
        "      result[i] = '*'\n",
        "print(result) \n",
        "''.join(result)"
      ],
      "metadata": {
        "colab": {
          "base_uri": "https://localhost:8080/",
          "height": 88
        },
        "id": "89vnolfKMVmW",
        "outputId": "4ce67015-ba73-44e1-d3a1-821677459e87"
      },
      "execution_count": null,
      "outputs": [
        {
          "output_type": "stream",
          "name": "stdout",
          "text": [
            "['a', 'c', 'r', 'e', 's']\n",
            "['A', 'c', 'r', 'e', 's']\n",
            "['_', 'c', 'r', 'e', 's']\n"
          ]
        },
        {
          "output_type": "execute_result",
          "data": {
            "text/plain": [
              "'_cres'"
            ],
            "application/vnd.google.colaboratory.intrinsic+json": {
              "type": "string"
            }
          },
          "metadata": {},
          "execution_count": 87
        }
      ]
    },
    {
      "cell_type": "markdown",
      "source": [
        "## soluzione esercizio"
      ],
      "metadata": {
        "id": "ab_0Ew9fNKHb"
      }
    },
    {
      "cell_type": "code",
      "source": [
        "target = \"acRes\"\n",
        "print(target)\n",
        "guess = \"Acres\"\n",
        "print(guess)\n",
        "result = \"_____\"\n",
        "\n",
        "target = target.lower()\n",
        "guess = guess.lower()\n",
        "\n",
        "if len(target) != len(guess):\n",
        "  print(\"wrong word lenght\")\n",
        "\n",
        "else:\n",
        "  if target == guess:\n",
        "    print(\"done!\")\n",
        "  else:\n",
        "    print(\"tryy again\")\n",
        "    for i in range(len(result)):\n",
        "      if guess[i] == target[i]:\n",
        "        result[i] = guess[i]\n",
        "      elif guess[i] in target:\n",
        "        result[i] = '*'\n",
        "\n",
        "''.join(result)"
      ],
      "metadata": {
        "colab": {
          "base_uri": "https://localhost:8080/",
          "height": 88
        },
        "id": "ArrnDRxENNFH",
        "outputId": "f198d12c-3bc9-4986-ba33-bb9895296b45"
      },
      "execution_count": null,
      "outputs": [
        {
          "output_type": "stream",
          "name": "stdout",
          "text": [
            "acRes\n",
            "Acres\n",
            "done!\n"
          ]
        },
        {
          "output_type": "execute_result",
          "data": {
            "text/plain": [
              "'_____'"
            ],
            "application/vnd.google.colaboratory.intrinsic+json": {
              "type": "string"
            }
          },
          "metadata": {},
          "execution_count": 94
        }
      ]
    },
    {
      "cell_type": "markdown",
      "source": [
        "#Function"
      ],
      "metadata": {
        "id": "JU3fFLvDPTVe"
      }
    },
    {
      "cell_type": "code",
      "source": [
        "def wordle(guess):\n",
        "  \"\"\"\n",
        "  A function that checks a word guess against a target\n",
        "  Input:\n",
        "    guess: a string\n",
        "  Return:\n",
        "    a string\n",
        "    \"\"\""
      ],
      "metadata": {
        "id": "461qlP5fPVBt"
      },
      "execution_count": null,
      "outputs": []
    },
    {
      "cell_type": "code",
      "source": [
        "wordle?\n",
        "#permette di vedere l'help associato alla funzione"
      ],
      "metadata": {
        "id": "ibQtMWtVPmQ-"
      },
      "execution_count": null,
      "outputs": []
    },
    {
      "cell_type": "code",
      "source": [
        "def wordle(guess,target):\n",
        "  \"\"\"\n",
        "  A function that checks a word guess against a target\n",
        "  Input:\n",
        "    guess: a string\n",
        "  Return:\n",
        "    a string\n",
        "    \"\"\"\n",
        "  test = [\"_\"] * 5\n",
        "\n",
        "  target = target.lower()\n",
        "  guess = guess.lower()\n",
        "\n",
        "  if len(target) != len(guess):\n",
        "    print(\"wrong word length\")\n",
        "  else:\n",
        "    if target == guess:\n",
        "      print(\"DONE!\")\n",
        "      test = guess\n",
        "    else:\n",
        "      print(\"try again\")\n",
        "      for i in range(len(test)):\n",
        "        if guess[i] == target[i]:\n",
        "          test[i] = guess[i]\n",
        "          \n",
        "        elif guess[i] in target:\n",
        "          test[i] = \"*\"\n",
        "    print(\"\".join(test))\n",
        "\n",
        "  return"
      ],
      "metadata": {
        "id": "cROr3RzAPs80"
      },
      "execution_count": null,
      "outputs": []
    },
    {
      "cell_type": "code",
      "source": [
        "list_strings_var = [\"H\",\"e\",\"l\",\"l\",\"o\"]\n",
        "\"\".join(list_strings_var)"
      ],
      "metadata": {
        "colab": {
          "base_uri": "https://localhost:8080/",
          "height": 36
        },
        "id": "QJRTeTJyQqsA",
        "outputId": "3f3e50b1-2eb9-4073-a8ef-db8b357377a9"
      },
      "execution_count": null,
      "outputs": [
        {
          "output_type": "execute_result",
          "data": {
            "text/plain": [
              "'Hello'"
            ],
            "application/vnd.google.colaboratory.intrinsic+json": {
              "type": "string"
            }
          },
          "metadata": {},
          "execution_count": 166
        }
      ]
    },
    {
      "cell_type": "code",
      "source": [
        "wordle(\"Acres\",\"acres\")"
      ],
      "metadata": {
        "colab": {
          "base_uri": "https://localhost:8080/"
        },
        "id": "fk9l_5LHRIfs",
        "outputId": "7cc993fe-03ef-454f-cc02-eaf48c477261"
      },
      "execution_count": null,
      "outputs": [
        {
          "output_type": "stream",
          "name": "stdout",
          "text": [
            "DONE!\n",
            "acres\n"
          ]
        }
      ]
    },
    {
      "cell_type": "markdown",
      "source": [
        "## importing packages"
      ],
      "metadata": {
        "id": "Ed__yAeuSI-f"
      }
    },
    {
      "cell_type": "markdown",
      "source": [
        "typical packages that we will see\n",
        "### pandas\n",
        "  manipulation of tabular data\n",
        "### numpy\n",
        "  manipulation of numerical data\n",
        "### scipy\n",
        "  statistica\n",
        "### matplotlib(pylab)\n",
        "  visualization and plotting\n",
        "### sklearn(scikitlearn)\n",
        "  machine learning\n",
        "### tensorflow\n",
        "  neural networks"
      ],
      "metadata": {
        "id": "fI4Xiav3Si2I"
      }
    },
    {
      "cell_type": "code",
      "source": [
        "import pandas as pd\n",
        "#mi permette di richiamare le funzioni da panda usando pd.\n",
        "from pandas import read_csv\n",
        "#importo solo la funzione importata"
      ],
      "metadata": {
        "id": "kmwn4T3BS-Dy"
      },
      "execution_count": null,
      "outputs": []
    },
    {
      "cell_type": "code",
      "source": [
        "url = \"https://raw.githubusercontent.com/fedhere/PyBOOT/master/311_Service_Requests_from_2010_to_Present.csv\""
      ],
      "metadata": {
        "id": "kBwjMjbLTDV0"
      },
      "execution_count": null,
      "outputs": []
    },
    {
      "cell_type": "code",
      "source": [
        "df = pd.read_csv(url)\n",
        "#il risultato è fissato in df, lo posso vedere successivamente richiamando la variabile\n"
      ],
      "metadata": {
        "id": "EPFQKDN9VJjs"
      },
      "execution_count": null,
      "outputs": []
    },
    {
      "cell_type": "code",
      "source": [
        "df.shape\n",
        "#mi dice quante colonne e righe ha il programma"
      ],
      "metadata": {
        "colab": {
          "base_uri": "https://localhost:8080/"
        },
        "id": "9meqyVn2VM7o",
        "outputId": "8db4fb98-e358-4b3f-f8d9-4dd3985e8ba1"
      },
      "execution_count": null,
      "outputs": [
        {
          "output_type": "execute_result",
          "data": {
            "text/plain": [
              "(924, 41)"
            ]
          },
          "metadata": {},
          "execution_count": 128
        }
      ]
    },
    {
      "cell_type": "code",
      "source": [
        "df.columns\n",
        "#attributi delle colonne"
      ],
      "metadata": {
        "colab": {
          "base_uri": "https://localhost:8080/"
        },
        "id": "IoE-DxLWVvdM",
        "outputId": "282879da-a9f8-4950-f2f0-d805a30c6720"
      },
      "execution_count": null,
      "outputs": [
        {
          "output_type": "execute_result",
          "data": {
            "text/plain": [
              "Index(['Unique Key', 'Created Date', 'Closed Date', 'Agency', 'Agency Name',\n",
              "       'Complaint Type', 'Descriptor', 'Location Type', 'Incident Zip',\n",
              "       'Incident Address', 'Street Name', 'Cross Street 1', 'Cross Street 2',\n",
              "       'Intersection Street 1', 'Intersection Street 2', 'Address Type',\n",
              "       'City', 'Landmark', 'Facility Type', 'Status', 'Due Date',\n",
              "       'Resolution Description', 'Resolution Action Updated Date',\n",
              "       'Community Board', 'BBL', 'Borough', 'X Coordinate (State Plane)',\n",
              "       'Y Coordinate (State Plane)', 'Open Data Channel Type',\n",
              "       'Park Facility Name', 'Park Borough', 'Vehicle Type',\n",
              "       'Taxi Company Borough', 'Taxi Pick Up Location', 'Bridge Highway Name',\n",
              "       'Bridge Highway Direction', 'Road Ramp', 'Bridge Highway Segment',\n",
              "       'Latitude', 'Longitude', 'Location'],\n",
              "      dtype='object')"
            ]
          },
          "metadata": {},
          "execution_count": 129
        }
      ]
    },
    {
      "cell_type": "code",
      "source": [
        "df.iloc[0]\n",
        "#estraggo la riga 0"
      ],
      "metadata": {
        "colab": {
          "base_uri": "https://localhost:8080/"
        },
        "id": "N8iCaz--V6t3",
        "outputId": "72aa7b1f-5f5c-453d-ad2c-7977c86fe810"
      },
      "execution_count": null,
      "outputs": [
        {
          "output_type": "execute_result",
          "data": {
            "text/plain": [
              "Unique Key                                                       54049402\n",
              "Created Date                                       05/01/2022 12:00:03 AM\n",
              "Closed Date                                                           NaN\n",
              "Agency                                                               NYPD\n",
              "Agency Name                               New York City Police Department\n",
              "Complaint Type                                        Noise - Residential\n",
              "Descriptor                                               Loud Music/Party\n",
              "Location Type                                  Residential Building/House\n",
              "Incident Zip                                                      10452.0\n",
              "Incident Address                                       1006 GERARD AVENUE\n",
              "Street Name                                                 GERARD AVENUE\n",
              "Cross Street 1                                           EAST  164 STREET\n",
              "Cross Street 2                                           EAST  165 STREET\n",
              "Intersection Street 1                                    EAST  164 STREET\n",
              "Intersection Street 2                                    EAST  165 STREET\n",
              "Address Type                                                      ADDRESS\n",
              "City                                                                BRONX\n",
              "Landmark                                                    GERARD AVENUE\n",
              "Facility Type                                                         NaN\n",
              "Status                                                        In Progress\n",
              "Due Date                                                              NaN\n",
              "Resolution Description                                                NaN\n",
              "Resolution Action Updated Date                                        NaN\n",
              "Community Board                                                  04 BRONX\n",
              "BBL                                                          2024770001.0\n",
              "Borough                                                             BRONX\n",
              "X Coordinate (State Plane)                                      1005536.0\n",
              "Y Coordinate (State Plane)                                       241916.0\n",
              "Open Data Channel Type                                             ONLINE\n",
              "Park Facility Name                                            Unspecified\n",
              "Park Borough                                                        BRONX\n",
              "Vehicle Type                                                          NaN\n",
              "Taxi Company Borough                                                  NaN\n",
              "Taxi Pick Up Location                                                 NaN\n",
              "Bridge Highway Name                                                   NaN\n",
              "Bridge Highway Direction                                              NaN\n",
              "Road Ramp                                                             NaN\n",
              "Bridge Highway Segment                                                NaN\n",
              "Latitude                                                        40.830653\n",
              "Longitude                                                      -73.923082\n",
              "Location                          (40.83065331987539, -73.92308231033165)\n",
              "Name: 0, dtype: object"
            ]
          },
          "metadata": {},
          "execution_count": 130
        }
      ]
    },
    {
      "cell_type": "code",
      "source": [
        "df.iloc[:,1]\n",
        "#estraggo tutte le righe e solo la colonna 1, posso estrarre la colonna anche cononoscendo il nome della colonna"
      ],
      "metadata": {
        "colab": {
          "base_uri": "https://localhost:8080/"
        },
        "id": "EBHrYJf0WmPE",
        "outputId": "3f6d62b4-a6dc-41fb-a634-abb241de7f06"
      },
      "execution_count": null,
      "outputs": [
        {
          "output_type": "execute_result",
          "data": {
            "text/plain": [
              "0      05/01/2022 12:00:03 AM\n",
              "1      05/01/2022 12:00:09 AM\n",
              "2      05/01/2022 12:00:17 AM\n",
              "3      05/01/2022 12:00:21 AM\n",
              "4      05/01/2022 12:00:25 AM\n",
              "                ...          \n",
              "919    05/01/2022 02:04:45 AM\n",
              "920    05/01/2022 02:05:35 AM\n",
              "921    05/01/2022 02:05:38 AM\n",
              "922    05/01/2022 02:06:13 AM\n",
              "923    05/01/2022 02:06:26 AM\n",
              "Name: Created Date, Length: 924, dtype: object"
            ]
          },
          "metadata": {},
          "execution_count": 133
        }
      ]
    },
    {
      "cell_type": "code",
      "source": [
        "url1 = \"https://raw.githubusercontent.com/fedhere/UInotebooks/master/dataWrangling/movies.dat\""
      ],
      "metadata": {
        "id": "NKox7RTQW9dN"
      },
      "execution_count": 2,
      "outputs": []
    },
    {
      "cell_type": "code",
      "source": [
        "columnnames = [\"title\", \"genre\"]\n",
        "movies = pd.read_csv(url1,sep = \"::\", index_col = 0, header = None, names = columnnames)\n",
        "movies\n",
        "#panda non legge il formato di questo url (non riconosce la separazione delle colonne), per aggirare il problema indico la variabile che separa le colonne\n",
        "#rimuovo il doppio indice poiché già  ce l'ho nel codice\n",
        "#non c'è un header perciò la prima riga del codice non è considerata come un header semplicemente insernedo header=none nella funzione \n",
        "#nomino una lista per nominare le colonne e la inserisco nella funzione"
      ],
      "metadata": {
        "colab": {
          "base_uri": "https://localhost:8080/",
          "height": 252
        },
        "id": "bBIrdDxyXNxX",
        "outputId": "32d2aaa8-8c02-45c4-e713-a5dc7b214b6f"
      },
      "execution_count": 3,
      "outputs": [
        {
          "output_type": "error",
          "ename": "NameError",
          "evalue": "ignored",
          "traceback": [
            "\u001b[0;31m---------------------------------------------------------------------------\u001b[0m",
            "\u001b[0;31mNameError\u001b[0m                                 Traceback (most recent call last)",
            "\u001b[0;32m<ipython-input-3-9544e685d75e>\u001b[0m in \u001b[0;36m<module>\u001b[0;34m\u001b[0m\n\u001b[1;32m      1\u001b[0m \u001b[0mcolumnnames\u001b[0m \u001b[0;34m=\u001b[0m \u001b[0;34m[\u001b[0m\u001b[0;34m\"title\"\u001b[0m\u001b[0;34m,\u001b[0m \u001b[0;34m\"genre\"\u001b[0m\u001b[0;34m]\u001b[0m\u001b[0;34m\u001b[0m\u001b[0;34m\u001b[0m\u001b[0m\n\u001b[0;32m----> 2\u001b[0;31m \u001b[0mmovies\u001b[0m \u001b[0;34m=\u001b[0m \u001b[0mpd\u001b[0m\u001b[0;34m.\u001b[0m\u001b[0mread_csv\u001b[0m\u001b[0;34m(\u001b[0m\u001b[0murl1\u001b[0m\u001b[0;34m,\u001b[0m\u001b[0msep\u001b[0m \u001b[0;34m=\u001b[0m \u001b[0;34m\"::\"\u001b[0m\u001b[0;34m,\u001b[0m \u001b[0mindex_col\u001b[0m \u001b[0;34m=\u001b[0m \u001b[0;36m0\u001b[0m\u001b[0;34m,\u001b[0m \u001b[0mheader\u001b[0m \u001b[0;34m=\u001b[0m \u001b[0;32mNone\u001b[0m\u001b[0;34m,\u001b[0m \u001b[0mnames\u001b[0m \u001b[0;34m=\u001b[0m \u001b[0mcolumnnames\u001b[0m\u001b[0;34m)\u001b[0m\u001b[0;34m\u001b[0m\u001b[0;34m\u001b[0m\u001b[0m\n\u001b[0m\u001b[1;32m      3\u001b[0m \u001b[0mmovies\u001b[0m\u001b[0;34m\u001b[0m\u001b[0;34m\u001b[0m\u001b[0m\n\u001b[1;32m      4\u001b[0m \u001b[0;31m#panda non legge il formato di questo url (non riconosce la separazione delle colonne), per aggirare il problema indico la variabile che separa le colonne\u001b[0m\u001b[0;34m\u001b[0m\u001b[0;34m\u001b[0m\u001b[0m\n\u001b[1;32m      5\u001b[0m \u001b[0;31m#rimuovo il doppio indice poiché già  ce l'ho nel codice\u001b[0m\u001b[0;34m\u001b[0m\u001b[0;34m\u001b[0m\u001b[0m\n",
            "\u001b[0;31mNameError\u001b[0m: name 'pd' is not defined"
          ]
        }
      ]
    },
    {
      "cell_type": "code",
      "source": [
        "columnnames = [\"title\", \"genre\"]\n",
        "movies = pd.read_csv(url1,sep = \"::\", index_col = 0, header = None, names = columnnames)"
      ],
      "metadata": {
        "id": "IERjXvMJXZH7"
      },
      "execution_count": null,
      "outputs": []
    },
    {
      "cell_type": "code",
      "source": [
        "movies[\"title\"]"
      ],
      "metadata": {
        "colab": {
          "base_uri": "https://localhost:8080/"
        },
        "id": "PNbE-w-HZfIk",
        "outputId": "d9072739-40e6-49e9-c71b-5ce51236b74f"
      },
      "execution_count": null,
      "outputs": [
        {
          "output_type": "execute_result",
          "data": {
            "text/plain": [
              "1                         Toy Story (1995)\n",
              "2                           Jumanji (1995)\n",
              "3                  Grumpier Old Men (1995)\n",
              "4                 Waiting to Exhale (1995)\n",
              "5       Father of the Bride Part II (1995)\n",
              "                       ...                \n",
              "3948               Meet the Parents (2000)\n",
              "3949            Requiem for a Dream (2000)\n",
              "3950                      Tigerland (2000)\n",
              "3951               Two Family House (2000)\n",
              "3952                 Contender, The (2000)\n",
              "Name: title, Length: 3883, dtype: object"
            ]
          },
          "metadata": {},
          "execution_count": 145
        }
      ]
    },
    {
      "cell_type": "code",
      "source": [
        "\"Toy Story (1995)\".split()\n",
        "#splitta la riga in una lista "
      ],
      "metadata": {
        "colab": {
          "base_uri": "https://localhost:8080/"
        },
        "id": "AHMzz8UXZs2a",
        "outputId": "3adeffb4-d713-440c-9661-f14862734c1d"
      },
      "execution_count": null,
      "outputs": [
        {
          "output_type": "execute_result",
          "data": {
            "text/plain": [
              "['Toy', 'Story', '(1995)']"
            ]
          },
          "metadata": {},
          "execution_count": 146
        }
      ]
    },
    {
      "cell_type": "code",
      "source": [
        "#se voglio estrarre solo l'ultimo elemento \n",
        "\"Toy Story (1995)\".split() [-1].replace(\"(\",\"\").strip(\")\")\n",
        "# - significa che parto da dx\n",
        "#rimuovo le parentesi usando replace e strip"
      ],
      "metadata": {
        "colab": {
          "base_uri": "https://localhost:8080/",
          "height": 36
        },
        "id": "8FRunP9UZ3gK",
        "outputId": "0d6adac5-6ecd-4f6b-bae0-24be28b07bd4"
      },
      "execution_count": null,
      "outputs": [
        {
          "output_type": "execute_result",
          "data": {
            "text/plain": [
              "'1995'"
            ],
            "application/vnd.google.colaboratory.intrinsic+json": {
              "type": "string"
            }
          },
          "metadata": {},
          "execution_count": 151
        }
      ]
    },
    {
      "cell_type": "code",
      "source": [
        "def get_year(mtitle):\n",
        "  \"\"\"\n",
        "  \"\"\"\n",
        "  return mtitle.split()[-1].replace(\"(\",\"\").strip(\")\")"
      ],
      "metadata": {
        "id": "_Tz3gursZ_bP"
      },
      "execution_count": null,
      "outputs": []
    },
    {
      "cell_type": "code",
      "source": [
        "movies[\"title\"].map(get_year)"
      ],
      "metadata": {
        "id": "tXidE2jiaw4F"
      },
      "execution_count": null,
      "outputs": []
    },
    {
      "cell_type": "code",
      "source": [
        "movies[\"year\"] = movies[\"title\"].map(get_year)"
      ],
      "metadata": {
        "id": "wY490AWYa1Jw"
      },
      "execution_count": null,
      "outputs": []
    },
    {
      "cell_type": "code",
      "source": [
        "movies.groupby(\"year\").count()\n",
        "#raggruppo le variabili e faccio il conteggio in base ai dati"
      ],
      "metadata": {
        "colab": {
          "base_uri": "https://localhost:8080/",
          "height": 345
        },
        "id": "yUPR3R2xbbWd",
        "outputId": "083a3bbe-7045-4603-ab11-cd0835b6a158"
      },
      "execution_count": 42,
      "outputs": [
        {
          "output_type": "error",
          "ename": "KeyError",
          "evalue": "ignored",
          "traceback": [
            "\u001b[0;31m---------------------------------------------------------------------------\u001b[0m",
            "\u001b[0;31mKeyError\u001b[0m                                  Traceback (most recent call last)",
            "\u001b[0;32m<ipython-input-42-db45ad22f24b>\u001b[0m in \u001b[0;36m<module>\u001b[0;34m\u001b[0m\n\u001b[0;32m----> 1\u001b[0;31m \u001b[0mmovies\u001b[0m\u001b[0;34m.\u001b[0m\u001b[0mgroupby\u001b[0m\u001b[0;34m(\u001b[0m\u001b[0;34m\"year\"\u001b[0m\u001b[0;34m)\u001b[0m\u001b[0;34m.\u001b[0m\u001b[0mcount\u001b[0m\u001b[0;34m(\u001b[0m\u001b[0;34m)\u001b[0m\u001b[0;34m\u001b[0m\u001b[0;34m\u001b[0m\u001b[0m\n\u001b[0m\u001b[1;32m      2\u001b[0m \u001b[0;31m#raggruppo le variabili e faccio il conteggio in base ai dati\u001b[0m\u001b[0;34m\u001b[0m\u001b[0;34m\u001b[0m\u001b[0m\n",
            "\u001b[0;32m/usr/local/lib/python3.9/dist-packages/pandas/core/frame.py\u001b[0m in \u001b[0;36mgroupby\u001b[0;34m(self, by, axis, level, as_index, sort, group_keys, squeeze, observed, dropna)\u001b[0m\n\u001b[1;32m   7629\u001b[0m         \u001b[0;31m# error: Argument \"squeeze\" to \"DataFrameGroupBy\" has incompatible type\u001b[0m\u001b[0;34m\u001b[0m\u001b[0;34m\u001b[0m\u001b[0m\n\u001b[1;32m   7630\u001b[0m         \u001b[0;31m# \"Union[bool, NoDefault]\"; expected \"bool\"\u001b[0m\u001b[0;34m\u001b[0m\u001b[0;34m\u001b[0m\u001b[0m\n\u001b[0;32m-> 7631\u001b[0;31m         return DataFrameGroupBy(\n\u001b[0m\u001b[1;32m   7632\u001b[0m             \u001b[0mobj\u001b[0m\u001b[0;34m=\u001b[0m\u001b[0mself\u001b[0m\u001b[0;34m,\u001b[0m\u001b[0;34m\u001b[0m\u001b[0;34m\u001b[0m\u001b[0m\n\u001b[1;32m   7633\u001b[0m             \u001b[0mkeys\u001b[0m\u001b[0;34m=\u001b[0m\u001b[0mby\u001b[0m\u001b[0;34m,\u001b[0m\u001b[0;34m\u001b[0m\u001b[0;34m\u001b[0m\u001b[0m\n",
            "\u001b[0;32m/usr/local/lib/python3.9/dist-packages/pandas/core/groupby/groupby.py\u001b[0m in \u001b[0;36m__init__\u001b[0;34m(self, obj, keys, axis, level, grouper, exclusions, selection, as_index, sort, group_keys, squeeze, observed, mutated, dropna)\u001b[0m\n\u001b[1;32m    887\u001b[0m             \u001b[0;32mfrom\u001b[0m \u001b[0mpandas\u001b[0m\u001b[0;34m.\u001b[0m\u001b[0mcore\u001b[0m\u001b[0;34m.\u001b[0m\u001b[0mgroupby\u001b[0m\u001b[0;34m.\u001b[0m\u001b[0mgrouper\u001b[0m \u001b[0;32mimport\u001b[0m \u001b[0mget_grouper\u001b[0m\u001b[0;34m\u001b[0m\u001b[0;34m\u001b[0m\u001b[0m\n\u001b[1;32m    888\u001b[0m \u001b[0;34m\u001b[0m\u001b[0m\n\u001b[0;32m--> 889\u001b[0;31m             grouper, exclusions, obj = get_grouper(\n\u001b[0m\u001b[1;32m    890\u001b[0m                 \u001b[0mobj\u001b[0m\u001b[0;34m,\u001b[0m\u001b[0;34m\u001b[0m\u001b[0;34m\u001b[0m\u001b[0m\n\u001b[1;32m    891\u001b[0m                 \u001b[0mkeys\u001b[0m\u001b[0;34m,\u001b[0m\u001b[0;34m\u001b[0m\u001b[0;34m\u001b[0m\u001b[0m\n",
            "\u001b[0;32m/usr/local/lib/python3.9/dist-packages/pandas/core/groupby/grouper.py\u001b[0m in \u001b[0;36mget_grouper\u001b[0;34m(obj, key, axis, level, sort, observed, mutated, validate, dropna)\u001b[0m\n\u001b[1;32m    860\u001b[0m                 \u001b[0min_axis\u001b[0m\u001b[0;34m,\u001b[0m \u001b[0mlevel\u001b[0m\u001b[0;34m,\u001b[0m \u001b[0mgpr\u001b[0m \u001b[0;34m=\u001b[0m \u001b[0;32mFalse\u001b[0m\u001b[0;34m,\u001b[0m \u001b[0mgpr\u001b[0m\u001b[0;34m,\u001b[0m \u001b[0;32mNone\u001b[0m\u001b[0;34m\u001b[0m\u001b[0;34m\u001b[0m\u001b[0m\n\u001b[1;32m    861\u001b[0m             \u001b[0;32melse\u001b[0m\u001b[0;34m:\u001b[0m\u001b[0;34m\u001b[0m\u001b[0;34m\u001b[0m\u001b[0m\n\u001b[0;32m--> 862\u001b[0;31m                 \u001b[0;32mraise\u001b[0m \u001b[0mKeyError\u001b[0m\u001b[0;34m(\u001b[0m\u001b[0mgpr\u001b[0m\u001b[0;34m)\u001b[0m\u001b[0;34m\u001b[0m\u001b[0;34m\u001b[0m\u001b[0m\n\u001b[0m\u001b[1;32m    863\u001b[0m         \u001b[0;32melif\u001b[0m \u001b[0misinstance\u001b[0m\u001b[0;34m(\u001b[0m\u001b[0mgpr\u001b[0m\u001b[0;34m,\u001b[0m \u001b[0mGrouper\u001b[0m\u001b[0;34m)\u001b[0m \u001b[0;32mand\u001b[0m \u001b[0mgpr\u001b[0m\u001b[0;34m.\u001b[0m\u001b[0mkey\u001b[0m \u001b[0;32mis\u001b[0m \u001b[0;32mnot\u001b[0m \u001b[0;32mNone\u001b[0m\u001b[0;34m:\u001b[0m\u001b[0;34m\u001b[0m\u001b[0;34m\u001b[0m\u001b[0m\n\u001b[1;32m    864\u001b[0m             \u001b[0;31m# Add key to exclusions\u001b[0m\u001b[0;34m\u001b[0m\u001b[0;34m\u001b[0m\u001b[0m\n",
            "\u001b[0;31mKeyError\u001b[0m: 'year'"
          ]
        }
      ]
    },
    {
      "cell_type": "code",
      "source": [],
      "metadata": {
        "id": "VyD9p9Qobfbq"
      },
      "execution_count": null,
      "outputs": []
    },
    {
      "cell_type": "markdown",
      "source": [
        "# Esercizio: \n",
        "\n",
        "Find all movies that are genre Fantasy. How many are there? How about Adventure?\n",
        "\n",
        "How many movies are Fantasy, possibly together with other genres?"
      ],
      "metadata": {
        "id": "-H8BXsaRb5at"
      }
    },
    {
      "cell_type": "markdown",
      "source": [
        "## Considerazioni preliminari"
      ],
      "metadata": {
        "id": "yDisPAvnFTAS"
      }
    },
    {
      "cell_type": "code",
      "source": [
        "import pandas as pd\n",
        "#richiamo le funzioni pandas\n",
        "\n",
        "url1 = \"https://raw.githubusercontent.com/fedhere/UInotebooks/master/dataWrangling/movies.dat\"\n",
        "#attribuisco alla variabile url1 il mio url\n",
        "\n",
        "columnnames = [\"title\",\"genre\"]\n",
        "movies = pd.read_csv(url1, sep = \"::\", index_col = 0, header = None, names = columnnames)\n",
        "#titolo le colonne e attribuisco alla variabile movies la tabella presente in url1\n",
        "\n",
        "def get_genre(mgenre):\n",
        "  \"\"\"funzione che mi splitta la colonna dei generi in più colonne dei generi\"\"\"\n",
        "  return (mgenre.split(\"|\"))\n",
        "\n",
        "movies[\"genre\"] = movies[\"genre\"].map(get_genre)\n",
        "movies"
      ],
      "metadata": {
        "colab": {
          "base_uri": "https://localhost:8080/",
          "height": 478
        },
        "id": "0uYwrOYLKHAb",
        "outputId": "2a40f110-2c85-4f8f-d8e4-fe64728450e2"
      },
      "execution_count": 111,
      "outputs": [
        {
          "output_type": "stream",
          "name": "stderr",
          "text": [
            "/usr/local/lib/python3.9/dist-packages/pandas/util/_decorators.py:311: ParserWarning: Falling back to the 'python' engine because the 'c' engine does not support regex separators (separators > 1 char and different from '\\s+' are interpreted as regex); you can avoid this warning by specifying engine='python'.\n",
            "  return func(*args, **kwargs)\n"
          ]
        },
        {
          "output_type": "execute_result",
          "data": {
            "text/plain": [
              "                                   title                             genre\n",
              "1                       Toy Story (1995)   [Animation, Children's, Comedy]\n",
              "2                         Jumanji (1995)  [Adventure, Children's, Fantasy]\n",
              "3                Grumpier Old Men (1995)                 [Comedy, Romance]\n",
              "4               Waiting to Exhale (1995)                   [Comedy, Drama]\n",
              "5     Father of the Bride Part II (1995)                          [Comedy]\n",
              "...                                  ...                               ...\n",
              "3948             Meet the Parents (2000)                          [Comedy]\n",
              "3949          Requiem for a Dream (2000)                           [Drama]\n",
              "3950                    Tigerland (2000)                           [Drama]\n",
              "3951             Two Family House (2000)                           [Drama]\n",
              "3952               Contender, The (2000)                 [Drama, Thriller]\n",
              "\n",
              "[3883 rows x 2 columns]"
            ],
            "text/html": [
              "\n",
              "  <div id=\"df-bfdf8021-e4ce-4989-8e46-179dd4420d78\">\n",
              "    <div class=\"colab-df-container\">\n",
              "      <div>\n",
              "<style scoped>\n",
              "    .dataframe tbody tr th:only-of-type {\n",
              "        vertical-align: middle;\n",
              "    }\n",
              "\n",
              "    .dataframe tbody tr th {\n",
              "        vertical-align: top;\n",
              "    }\n",
              "\n",
              "    .dataframe thead th {\n",
              "        text-align: right;\n",
              "    }\n",
              "</style>\n",
              "<table border=\"1\" class=\"dataframe\">\n",
              "  <thead>\n",
              "    <tr style=\"text-align: right;\">\n",
              "      <th></th>\n",
              "      <th>title</th>\n",
              "      <th>genre</th>\n",
              "    </tr>\n",
              "  </thead>\n",
              "  <tbody>\n",
              "    <tr>\n",
              "      <th>1</th>\n",
              "      <td>Toy Story (1995)</td>\n",
              "      <td>[Animation, Children's, Comedy]</td>\n",
              "    </tr>\n",
              "    <tr>\n",
              "      <th>2</th>\n",
              "      <td>Jumanji (1995)</td>\n",
              "      <td>[Adventure, Children's, Fantasy]</td>\n",
              "    </tr>\n",
              "    <tr>\n",
              "      <th>3</th>\n",
              "      <td>Grumpier Old Men (1995)</td>\n",
              "      <td>[Comedy, Romance]</td>\n",
              "    </tr>\n",
              "    <tr>\n",
              "      <th>4</th>\n",
              "      <td>Waiting to Exhale (1995)</td>\n",
              "      <td>[Comedy, Drama]</td>\n",
              "    </tr>\n",
              "    <tr>\n",
              "      <th>5</th>\n",
              "      <td>Father of the Bride Part II (1995)</td>\n",
              "      <td>[Comedy]</td>\n",
              "    </tr>\n",
              "    <tr>\n",
              "      <th>...</th>\n",
              "      <td>...</td>\n",
              "      <td>...</td>\n",
              "    </tr>\n",
              "    <tr>\n",
              "      <th>3948</th>\n",
              "      <td>Meet the Parents (2000)</td>\n",
              "      <td>[Comedy]</td>\n",
              "    </tr>\n",
              "    <tr>\n",
              "      <th>3949</th>\n",
              "      <td>Requiem for a Dream (2000)</td>\n",
              "      <td>[Drama]</td>\n",
              "    </tr>\n",
              "    <tr>\n",
              "      <th>3950</th>\n",
              "      <td>Tigerland (2000)</td>\n",
              "      <td>[Drama]</td>\n",
              "    </tr>\n",
              "    <tr>\n",
              "      <th>3951</th>\n",
              "      <td>Two Family House (2000)</td>\n",
              "      <td>[Drama]</td>\n",
              "    </tr>\n",
              "    <tr>\n",
              "      <th>3952</th>\n",
              "      <td>Contender, The (2000)</td>\n",
              "      <td>[Drama, Thriller]</td>\n",
              "    </tr>\n",
              "  </tbody>\n",
              "</table>\n",
              "<p>3883 rows × 2 columns</p>\n",
              "</div>\n",
              "      <button class=\"colab-df-convert\" onclick=\"convertToInteractive('df-bfdf8021-e4ce-4989-8e46-179dd4420d78')\"\n",
              "              title=\"Convert this dataframe to an interactive table.\"\n",
              "              style=\"display:none;\">\n",
              "        \n",
              "  <svg xmlns=\"http://www.w3.org/2000/svg\" height=\"24px\"viewBox=\"0 0 24 24\"\n",
              "       width=\"24px\">\n",
              "    <path d=\"M0 0h24v24H0V0z\" fill=\"none\"/>\n",
              "    <path d=\"M18.56 5.44l.94 2.06.94-2.06 2.06-.94-2.06-.94-.94-2.06-.94 2.06-2.06.94zm-11 1L8.5 8.5l.94-2.06 2.06-.94-2.06-.94L8.5 2.5l-.94 2.06-2.06.94zm10 10l.94 2.06.94-2.06 2.06-.94-2.06-.94-.94-2.06-.94 2.06-2.06.94z\"/><path d=\"M17.41 7.96l-1.37-1.37c-.4-.4-.92-.59-1.43-.59-.52 0-1.04.2-1.43.59L10.3 9.45l-7.72 7.72c-.78.78-.78 2.05 0 2.83L4 21.41c.39.39.9.59 1.41.59.51 0 1.02-.2 1.41-.59l7.78-7.78 2.81-2.81c.8-.78.8-2.07 0-2.86zM5.41 20L4 18.59l7.72-7.72 1.47 1.35L5.41 20z\"/>\n",
              "  </svg>\n",
              "      </button>\n",
              "      \n",
              "  <style>\n",
              "    .colab-df-container {\n",
              "      display:flex;\n",
              "      flex-wrap:wrap;\n",
              "      gap: 12px;\n",
              "    }\n",
              "\n",
              "    .colab-df-convert {\n",
              "      background-color: #E8F0FE;\n",
              "      border: none;\n",
              "      border-radius: 50%;\n",
              "      cursor: pointer;\n",
              "      display: none;\n",
              "      fill: #1967D2;\n",
              "      height: 32px;\n",
              "      padding: 0 0 0 0;\n",
              "      width: 32px;\n",
              "    }\n",
              "\n",
              "    .colab-df-convert:hover {\n",
              "      background-color: #E2EBFA;\n",
              "      box-shadow: 0px 1px 2px rgba(60, 64, 67, 0.3), 0px 1px 3px 1px rgba(60, 64, 67, 0.15);\n",
              "      fill: #174EA6;\n",
              "    }\n",
              "\n",
              "    [theme=dark] .colab-df-convert {\n",
              "      background-color: #3B4455;\n",
              "      fill: #D2E3FC;\n",
              "    }\n",
              "\n",
              "    [theme=dark] .colab-df-convert:hover {\n",
              "      background-color: #434B5C;\n",
              "      box-shadow: 0px 1px 3px 1px rgba(0, 0, 0, 0.15);\n",
              "      filter: drop-shadow(0px 1px 2px rgba(0, 0, 0, 0.3));\n",
              "      fill: #FFFFFF;\n",
              "    }\n",
              "  </style>\n",
              "\n",
              "      <script>\n",
              "        const buttonEl =\n",
              "          document.querySelector('#df-bfdf8021-e4ce-4989-8e46-179dd4420d78 button.colab-df-convert');\n",
              "        buttonEl.style.display =\n",
              "          google.colab.kernel.accessAllowed ? 'block' : 'none';\n",
              "\n",
              "        async function convertToInteractive(key) {\n",
              "          const element = document.querySelector('#df-bfdf8021-e4ce-4989-8e46-179dd4420d78');\n",
              "          const dataTable =\n",
              "            await google.colab.kernel.invokeFunction('convertToInteractive',\n",
              "                                                     [key], {});\n",
              "          if (!dataTable) return;\n",
              "\n",
              "          const docLinkHtml = 'Like what you see? Visit the ' +\n",
              "            '<a target=\"_blank\" href=https://colab.research.google.com/notebooks/data_table.ipynb>data table notebook</a>'\n",
              "            + ' to learn more about interactive tables.';\n",
              "          element.innerHTML = '';\n",
              "          dataTable['output_type'] = 'display_data';\n",
              "          await google.colab.output.renderOutput(dataTable, element);\n",
              "          const docLink = document.createElement('div');\n",
              "          docLink.innerHTML = docLinkHtml;\n",
              "          element.appendChild(docLink);\n",
              "        }\n",
              "      </script>\n",
              "    </div>\n",
              "  </div>\n",
              "  "
            ]
          },
          "metadata": {},
          "execution_count": 111
        }
      ]
    },
    {
      "cell_type": "code",
      "source": [
        "genre = movies[\"genre\"].map(get_genre)\n",
        "genre"
      ],
      "metadata": {
        "colab": {
          "base_uri": "https://localhost:8080/"
        },
        "id": "Gl56dST2K_5r",
        "outputId": "0f9f8b10-3b42-4a00-f507-5cb1cb137d28"
      },
      "execution_count": 114,
      "outputs": [
        {
          "output_type": "execute_result",
          "data": {
            "text/plain": [
              "1        [Animation, Children's, Comedy]\n",
              "2       [Adventure, Children's, Fantasy]\n",
              "3                      [Comedy, Romance]\n",
              "4                        [Comedy, Drama]\n",
              "5                               [Comedy]\n",
              "                      ...               \n",
              "3948                            [Comedy]\n",
              "3949                             [Drama]\n",
              "3950                             [Drama]\n",
              "3951                             [Drama]\n",
              "3952                   [Drama, Thriller]\n",
              "Name: genre, Length: 3883, dtype: object"
            ]
          },
          "metadata": {},
          "execution_count": 114
        }
      ]
    },
    {
      "cell_type": "code",
      "source": [
        "genre.iloc[0]"
      ],
      "metadata": {
        "colab": {
          "base_uri": "https://localhost:8080/"
        },
        "id": "8oOTtfkyLG3P",
        "outputId": "c1efe922-9aef-4605-877b-0a1a01b26471"
      },
      "execution_count": 115,
      "outputs": [
        {
          "output_type": "execute_result",
          "data": {
            "text/plain": [
              "['Animation', \"Children's\", 'Comedy']"
            ]
          },
          "metadata": {},
          "execution_count": 115
        }
      ]
    },
    {
      "cell_type": "code",
      "source": [
        "NFantasy=0\n",
        "\n",
        "for i in range(len(genre)):\n",
        "  if \"Fantasy\" in genre.iloc[i]:\n",
        "    NFantasy+=1\n",
        "  else:\n",
        "    NFantasy=NFantasy\n",
        "\n",
        "NFantasy"
      ],
      "metadata": {
        "colab": {
          "base_uri": "https://localhost:8080/"
        },
        "id": "bDlj6PCLLJ3t",
        "outputId": "460930c9-64f4-4be4-98e6-90fa121ffb39"
      },
      "execution_count": 121,
      "outputs": [
        {
          "output_type": "execute_result",
          "data": {
            "text/plain": [
              "68"
            ]
          },
          "metadata": {},
          "execution_count": 121
        }
      ]
    },
    {
      "cell_type": "markdown",
      "source": [
        "## Programma finale"
      ],
      "metadata": {
        "id": "zSclH0PXFY4Q"
      }
    },
    {
      "cell_type": "code",
      "source": [
        "NAdventure = 0 #inizializzo la variabile che mi indica il numero di film adventure a 0\n",
        "NFantasy = 0 #inizializzo la variabile che mi indica il numero di film fantasy a 0\n",
        "\n",
        "import pandas as pd\n",
        "#richiamo le funzioni pandas\n",
        "url1 = \"https://raw.githubusercontent.com/fedhere/UInotebooks/master/dataWrangling/movies.dat\"\n",
        "#attribuisco alla variabile url1 il mio url\n",
        "\n",
        "columnnames = [\"title\",\"genre\"]\n",
        "movies = pd.read_csv(url1, sep = \"::\", index_col = 0, header = None, names = columnnames)\n",
        "#titolo le colonne e attribuisco alla variabile movies la tabella presente in url1\n",
        "\n",
        "def get_genre(mgenre):\n",
        "  \"\"\"funzione che mi splitta la colonna dei generi in più colonne dei generi\"\"\"\n",
        "  return (mgenre.split(\"|\"))\n",
        "\n",
        "genre = movies[\"genre\"].map(get_genre)\n",
        "\n",
        "#apro un ciclo for per poter eseguire il conteggio dei film adventure\n",
        "for i in range(len(genre)):\n",
        "  if \"Adventure\" in genre.iloc[i]:\n",
        "    NAdventure += 1\n",
        "  else:\n",
        "    NAdventure = NAdventure\n",
        "\n",
        "#apro un ciclo for per poter eseguire il conteggio dei film fantasy\n",
        "for i in range(len(genre)):\n",
        "  if \"Fantasy\" in genre.iloc[i]:\n",
        "    NFantasy += 1\n",
        "  else:\n",
        "    NFantasy = NFantasy\n",
        "\n",
        "#visualizzo il risultato finale\n",
        "Result = [NFantasy,NAdventure]\n",
        "f\"il numero di film fantasy è {NFantasy}, il numero di film d'avventura è {NAdventure}\"\n",
        "\n"
      ],
      "metadata": {
        "colab": {
          "base_uri": "https://localhost:8080/",
          "height": 36
        },
        "id": "xiyowK2iQjKf",
        "outputId": "fab70f14-bd43-41dc-c675-4c45405f6f92"
      },
      "execution_count": 146,
      "outputs": [
        {
          "output_type": "execute_result",
          "data": {
            "text/plain": [
              "\"il numero di film fantasy è 68, il numero di film d'avventura è 283\""
            ],
            "application/vnd.google.colaboratory.intrinsic+json": {
              "type": "string"
            }
          },
          "metadata": {},
          "execution_count": 146
        }
      ]
    },
    {
      "cell_type": "code",
      "source": [],
      "metadata": {
        "id": "QNCUQTPDQuno"
      },
      "execution_count": null,
      "outputs": []
    }
  ]
}