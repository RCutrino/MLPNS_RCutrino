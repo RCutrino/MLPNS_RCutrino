{
  "nbformat": 4,
  "nbformat_minor": 0,
  "metadata": {
    "colab": {
      "provenance": [],
      "authorship_tag": "ABX9TyMZo89r2c/pzjPqBIybZISS",
      "include_colab_link": true
    },
    "kernelspec": {
      "name": "python3",
      "display_name": "Python 3"
    },
    "language_info": {
      "name": "python"
    }
  },
  "cells": [
    {
      "cell_type": "markdown",
      "metadata": {
        "id": "view-in-github",
        "colab_type": "text"
      },
      "source": [
        "<a href=\"https://colab.research.google.com/github/RCutrino/MLPNS_RCutrino/blob/main/MLPNS23_esercizio10_03.ipynb\" target=\"_parent\"><img src=\"https://colab.research.google.com/assets/colab-badge.svg\" alt=\"Open In Colab\"/></a>"
      ]
    },
    {
      "cell_type": "code",
      "execution_count": null,
      "metadata": {
        "id": "sdlLkKURJieL"
      },
      "outputs": [],
      "source": [
        "NAdventure = 0 #inizializzo la variabile che mi indica il numero di film adventure a 0\n",
        "NFantasy = 0 #inizializzo la variabile che mi indica il numero di film fantasy a 0\n",
        "\n",
        "import pandas as pd\n",
        "#richiamo le funzioni pandas\n",
        "url1 = \"https://raw.githubusercontent.com/fedhere/UInotebooks/master/dataWrangling/movies.dat\"\n",
        "#attribuisco alla variabile url1 il mio url\n",
        "\n",
        "columnnames = [\"title\",\"genre\"]\n",
        "movies = pd.read_csv(url1, sep = \"::\", index_col = 0, header = None, names = columnnames)\n",
        "#titolo le colonne e attribuisco alla variabile movies la tabella presente in url1\n",
        "\n",
        "def get_genre(mgenre):\n",
        "  \"\"\"funzione che mi splitta la colonna dei generi in più colonne dei generi\"\"\"\n",
        "  return (mgenre.split(\"|\"))\n",
        "\n",
        "genre = movies[\"genre\"].map(get_genre)\n",
        "\n",
        "#apro un ciclo for per poter eseguire il conteggio dei film adventure\n",
        "for i in range(len(genre)):\n",
        "  if \"Adventure\" in genre.iloc[i]:\n",
        "    NAdventure += 1\n",
        "  else:\n",
        "    NAdventure = NAdventure\n",
        "\n",
        "#apro un ciclo for per poter eseguire il conteggio dei film fantasy\n",
        "for i in range(len(genre)):\n",
        "  if \"Fantasy\" in genre.iloc[i]:\n",
        "    NFantasy += 1\n",
        "  else:\n",
        "    NFantasy = NFantasy\n",
        "\n",
        "#visualizzo il risultato finale\n",
        "Result = [NFantasy,NAdventure]\n",
        "f\"il numero di film fantasy è {NFantasy}, il numero di film d'avventura è {NAdventure}\""
      ]
    }
  ]
}