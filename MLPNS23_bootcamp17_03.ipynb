{
  "nbformat": 4,
  "nbformat_minor": 0,
  "metadata": {
    "colab": {
      "provenance": [],
      "authorship_tag": "ABX9TyOuMx8/b2+FFs+ZAhkjB3q7",
      "include_colab_link": true
    },
    "kernelspec": {
      "name": "python3",
      "display_name": "Python 3"
    },
    "language_info": {
      "name": "python"
    }
  },
  "cells": [
    {
      "cell_type": "markdown",
      "metadata": {
        "id": "view-in-github",
        "colab_type": "text"
      },
      "source": [
        "<a href=\"https://colab.research.google.com/github/RCutrino/MLPNS_RCutrino/blob/main/MLPNS23_bootcamp17_03.ipynb\" target=\"_parent\"><img src=\"https://colab.research.google.com/assets/colab-badge.svg\" alt=\"Open In Colab\"/></a>"
      ]
    },
    {
      "cell_type": "code",
      "execution_count": 2,
      "metadata": {
        "id": "pygclmtDieAy"
      },
      "outputs": [],
      "source": [
        "import pandas as pd\n",
        "import pylab as pl\n",
        "import scipy as sp\n",
        "from scipy import stats"
      ]
    },
    {
      "cell_type": "code",
      "source": [
        "eqs = pd.read_csv(\"https://github.com/fedhere/MLPNS_FBianco/blob/main/statistics/KStest/earthquakes.csv?raw=true\", sep = \" \")\n",
        "eqs"
      ],
      "metadata": {
        "colab": {
          "base_uri": "https://localhost:8080/",
          "height": 424
        },
        "id": "1CZ7yhGQi1qM",
        "outputId": "b3dc8b5f-ccc7-447c-f0ed-82a72cc66faf"
      },
      "execution_count": 3,
      "outputs": [
        {
          "output_type": "execute_result",
          "data": {
            "text/plain": [
              "       #YYY/MM/DD  HH:mm:SS.ss  ET  GT MAG  Unnamed: 5  M  Unnamed: 7  \\\n",
              "0      1984/01/01  01:30:57.52  eq NaN   l        2.02  c         NaN   \n",
              "1      1984/01/01  05:31:34.16  eq NaN   l        2.12  c         NaN   \n",
              "2      1984/01/01  06:59:05.14  eq NaN   l        2.43  c         NaN   \n",
              "3      1984/01/01  11:10:25.29  eq NaN   l        2.07  c         NaN   \n",
              "4      1984/01/01  19:38:19.79  eq NaN   l        2.13  c         NaN   \n",
              "...           ...          ...  ..  ..  ..         ... ..         ...   \n",
              "70793  2002/12/29  19:37:24.56  eq NaN   l        2.21  l         NaN   \n",
              "70794  2002/12/29  20:17:33.40  eq NaN   l        2.02  l         NaN   \n",
              "70795  2002/12/29  20:21:28.73  eq NaN   l        2.07  l         NaN   \n",
              "70796  2002/12/30  21:51:52.55  eq NaN   l        2.31  l         NaN   \n",
              "70797  2002/12/30  23:38:49.79  eq NaN   l        2.05  l         NaN   \n",
              "\n",
              "       Unnamed: 8  Unnamed: 9  ...     Q  Unnamed: 25  EVID Unnamed: 27  \\\n",
              "0             NaN    33.24600  ...  17.0          NaN   NaN         NaN   \n",
              "1             NaN    32.94500  ...  42.0          NaN   NaN         NaN   \n",
              "2             NaN    33.34300  ...  30.0          NaN   NaN         NaN   \n",
              "3             NaN    33.66800  ...   NaN          NaN   NaN         NaN   \n",
              "4             NaN    33.96300  ...  49.0          NaN   NaN         NaN   \n",
              "...           ...         ...  ...   ...          ...   ...         ...   \n",
              "70793         NaN    35.31400  ...   NaN          NaN   NaN         NaN   \n",
              "70794         NaN    35.32133  ...   NaN          NaN   NaN         NaN   \n",
              "70795         NaN    35.32150  ...   NaN          NaN   NaN         NaN   \n",
              "70796         NaN    35.31867  ...   NaN          NaN   NaN         NaN   \n",
              "70797         NaN    35.31450  ...   NaN          NaN   NaN         NaN   \n",
              "\n",
              "      Unnamed: 28  Unnamed: 29  Unnamed: 30  Unnamed: 31  NPH  NGRM  \n",
              "0             NaN          NaN          NaN          NaN  NaN   NaN  \n",
              "1             NaN          NaN          NaN          NaN  NaN   NaN  \n",
              "2             NaN          NaN          NaN          NaN  NaN   NaN  \n",
              "3             NaN          NaN          NaN          NaN  NaN   NaN  \n",
              "4             NaN          NaN          NaN          NaN  NaN   NaN  \n",
              "...           ...          ...          ...          ...  ...   ...  \n",
              "70793         NaN          NaN          NaN          NaN  NaN   NaN  \n",
              "70794         NaN          NaN          NaN          NaN  NaN   NaN  \n",
              "70795         NaN          NaN          NaN          NaN  NaN   NaN  \n",
              "70796         NaN          NaN          NaN          NaN  NaN   NaN  \n",
              "70797         NaN          NaN          NaN          NaN  NaN   NaN  \n",
              "\n",
              "[70798 rows x 34 columns]"
            ],
            "text/html": [
              "\n",
              "  <div id=\"df-f14b8e55-f3ad-4570-b944-c434a756dbc8\">\n",
              "    <div class=\"colab-df-container\">\n",
              "      <div>\n",
              "<style scoped>\n",
              "    .dataframe tbody tr th:only-of-type {\n",
              "        vertical-align: middle;\n",
              "    }\n",
              "\n",
              "    .dataframe tbody tr th {\n",
              "        vertical-align: top;\n",
              "    }\n",
              "\n",
              "    .dataframe thead th {\n",
              "        text-align: right;\n",
              "    }\n",
              "</style>\n",
              "<table border=\"1\" class=\"dataframe\">\n",
              "  <thead>\n",
              "    <tr style=\"text-align: right;\">\n",
              "      <th></th>\n",
              "      <th>#YYY/MM/DD</th>\n",
              "      <th>HH:mm:SS.ss</th>\n",
              "      <th>ET</th>\n",
              "      <th>GT</th>\n",
              "      <th>MAG</th>\n",
              "      <th>Unnamed: 5</th>\n",
              "      <th>M</th>\n",
              "      <th>Unnamed: 7</th>\n",
              "      <th>Unnamed: 8</th>\n",
              "      <th>Unnamed: 9</th>\n",
              "      <th>...</th>\n",
              "      <th>Q</th>\n",
              "      <th>Unnamed: 25</th>\n",
              "      <th>EVID</th>\n",
              "      <th>Unnamed: 27</th>\n",
              "      <th>Unnamed: 28</th>\n",
              "      <th>Unnamed: 29</th>\n",
              "      <th>Unnamed: 30</th>\n",
              "      <th>Unnamed: 31</th>\n",
              "      <th>NPH</th>\n",
              "      <th>NGRM</th>\n",
              "    </tr>\n",
              "  </thead>\n",
              "  <tbody>\n",
              "    <tr>\n",
              "      <th>0</th>\n",
              "      <td>1984/01/01</td>\n",
              "      <td>01:30:57.52</td>\n",
              "      <td>eq</td>\n",
              "      <td>NaN</td>\n",
              "      <td>l</td>\n",
              "      <td>2.02</td>\n",
              "      <td>c</td>\n",
              "      <td>NaN</td>\n",
              "      <td>NaN</td>\n",
              "      <td>33.24600</td>\n",
              "      <td>...</td>\n",
              "      <td>17.0</td>\n",
              "      <td>NaN</td>\n",
              "      <td>NaN</td>\n",
              "      <td>NaN</td>\n",
              "      <td>NaN</td>\n",
              "      <td>NaN</td>\n",
              "      <td>NaN</td>\n",
              "      <td>NaN</td>\n",
              "      <td>NaN</td>\n",
              "      <td>NaN</td>\n",
              "    </tr>\n",
              "    <tr>\n",
              "      <th>1</th>\n",
              "      <td>1984/01/01</td>\n",
              "      <td>05:31:34.16</td>\n",
              "      <td>eq</td>\n",
              "      <td>NaN</td>\n",
              "      <td>l</td>\n",
              "      <td>2.12</td>\n",
              "      <td>c</td>\n",
              "      <td>NaN</td>\n",
              "      <td>NaN</td>\n",
              "      <td>32.94500</td>\n",
              "      <td>...</td>\n",
              "      <td>42.0</td>\n",
              "      <td>NaN</td>\n",
              "      <td>NaN</td>\n",
              "      <td>NaN</td>\n",
              "      <td>NaN</td>\n",
              "      <td>NaN</td>\n",
              "      <td>NaN</td>\n",
              "      <td>NaN</td>\n",
              "      <td>NaN</td>\n",
              "      <td>NaN</td>\n",
              "    </tr>\n",
              "    <tr>\n",
              "      <th>2</th>\n",
              "      <td>1984/01/01</td>\n",
              "      <td>06:59:05.14</td>\n",
              "      <td>eq</td>\n",
              "      <td>NaN</td>\n",
              "      <td>l</td>\n",
              "      <td>2.43</td>\n",
              "      <td>c</td>\n",
              "      <td>NaN</td>\n",
              "      <td>NaN</td>\n",
              "      <td>33.34300</td>\n",
              "      <td>...</td>\n",
              "      <td>30.0</td>\n",
              "      <td>NaN</td>\n",
              "      <td>NaN</td>\n",
              "      <td>NaN</td>\n",
              "      <td>NaN</td>\n",
              "      <td>NaN</td>\n",
              "      <td>NaN</td>\n",
              "      <td>NaN</td>\n",
              "      <td>NaN</td>\n",
              "      <td>NaN</td>\n",
              "    </tr>\n",
              "    <tr>\n",
              "      <th>3</th>\n",
              "      <td>1984/01/01</td>\n",
              "      <td>11:10:25.29</td>\n",
              "      <td>eq</td>\n",
              "      <td>NaN</td>\n",
              "      <td>l</td>\n",
              "      <td>2.07</td>\n",
              "      <td>c</td>\n",
              "      <td>NaN</td>\n",
              "      <td>NaN</td>\n",
              "      <td>33.66800</td>\n",
              "      <td>...</td>\n",
              "      <td>NaN</td>\n",
              "      <td>NaN</td>\n",
              "      <td>NaN</td>\n",
              "      <td>NaN</td>\n",
              "      <td>NaN</td>\n",
              "      <td>NaN</td>\n",
              "      <td>NaN</td>\n",
              "      <td>NaN</td>\n",
              "      <td>NaN</td>\n",
              "      <td>NaN</td>\n",
              "    </tr>\n",
              "    <tr>\n",
              "      <th>4</th>\n",
              "      <td>1984/01/01</td>\n",
              "      <td>19:38:19.79</td>\n",
              "      <td>eq</td>\n",
              "      <td>NaN</td>\n",
              "      <td>l</td>\n",
              "      <td>2.13</td>\n",
              "      <td>c</td>\n",
              "      <td>NaN</td>\n",
              "      <td>NaN</td>\n",
              "      <td>33.96300</td>\n",
              "      <td>...</td>\n",
              "      <td>49.0</td>\n",
              "      <td>NaN</td>\n",
              "      <td>NaN</td>\n",
              "      <td>NaN</td>\n",
              "      <td>NaN</td>\n",
              "      <td>NaN</td>\n",
              "      <td>NaN</td>\n",
              "      <td>NaN</td>\n",
              "      <td>NaN</td>\n",
              "      <td>NaN</td>\n",
              "    </tr>\n",
              "    <tr>\n",
              "      <th>...</th>\n",
              "      <td>...</td>\n",
              "      <td>...</td>\n",
              "      <td>...</td>\n",
              "      <td>...</td>\n",
              "      <td>...</td>\n",
              "      <td>...</td>\n",
              "      <td>...</td>\n",
              "      <td>...</td>\n",
              "      <td>...</td>\n",
              "      <td>...</td>\n",
              "      <td>...</td>\n",
              "      <td>...</td>\n",
              "      <td>...</td>\n",
              "      <td>...</td>\n",
              "      <td>...</td>\n",
              "      <td>...</td>\n",
              "      <td>...</td>\n",
              "      <td>...</td>\n",
              "      <td>...</td>\n",
              "      <td>...</td>\n",
              "      <td>...</td>\n",
              "    </tr>\n",
              "    <tr>\n",
              "      <th>70793</th>\n",
              "      <td>2002/12/29</td>\n",
              "      <td>19:37:24.56</td>\n",
              "      <td>eq</td>\n",
              "      <td>NaN</td>\n",
              "      <td>l</td>\n",
              "      <td>2.21</td>\n",
              "      <td>l</td>\n",
              "      <td>NaN</td>\n",
              "      <td>NaN</td>\n",
              "      <td>35.31400</td>\n",
              "      <td>...</td>\n",
              "      <td>NaN</td>\n",
              "      <td>NaN</td>\n",
              "      <td>NaN</td>\n",
              "      <td>NaN</td>\n",
              "      <td>NaN</td>\n",
              "      <td>NaN</td>\n",
              "      <td>NaN</td>\n",
              "      <td>NaN</td>\n",
              "      <td>NaN</td>\n",
              "      <td>NaN</td>\n",
              "    </tr>\n",
              "    <tr>\n",
              "      <th>70794</th>\n",
              "      <td>2002/12/29</td>\n",
              "      <td>20:17:33.40</td>\n",
              "      <td>eq</td>\n",
              "      <td>NaN</td>\n",
              "      <td>l</td>\n",
              "      <td>2.02</td>\n",
              "      <td>l</td>\n",
              "      <td>NaN</td>\n",
              "      <td>NaN</td>\n",
              "      <td>35.32133</td>\n",
              "      <td>...</td>\n",
              "      <td>NaN</td>\n",
              "      <td>NaN</td>\n",
              "      <td>NaN</td>\n",
              "      <td>NaN</td>\n",
              "      <td>NaN</td>\n",
              "      <td>NaN</td>\n",
              "      <td>NaN</td>\n",
              "      <td>NaN</td>\n",
              "      <td>NaN</td>\n",
              "      <td>NaN</td>\n",
              "    </tr>\n",
              "    <tr>\n",
              "      <th>70795</th>\n",
              "      <td>2002/12/29</td>\n",
              "      <td>20:21:28.73</td>\n",
              "      <td>eq</td>\n",
              "      <td>NaN</td>\n",
              "      <td>l</td>\n",
              "      <td>2.07</td>\n",
              "      <td>l</td>\n",
              "      <td>NaN</td>\n",
              "      <td>NaN</td>\n",
              "      <td>35.32150</td>\n",
              "      <td>...</td>\n",
              "      <td>NaN</td>\n",
              "      <td>NaN</td>\n",
              "      <td>NaN</td>\n",
              "      <td>NaN</td>\n",
              "      <td>NaN</td>\n",
              "      <td>NaN</td>\n",
              "      <td>NaN</td>\n",
              "      <td>NaN</td>\n",
              "      <td>NaN</td>\n",
              "      <td>NaN</td>\n",
              "    </tr>\n",
              "    <tr>\n",
              "      <th>70796</th>\n",
              "      <td>2002/12/30</td>\n",
              "      <td>21:51:52.55</td>\n",
              "      <td>eq</td>\n",
              "      <td>NaN</td>\n",
              "      <td>l</td>\n",
              "      <td>2.31</td>\n",
              "      <td>l</td>\n",
              "      <td>NaN</td>\n",
              "      <td>NaN</td>\n",
              "      <td>35.31867</td>\n",
              "      <td>...</td>\n",
              "      <td>NaN</td>\n",
              "      <td>NaN</td>\n",
              "      <td>NaN</td>\n",
              "      <td>NaN</td>\n",
              "      <td>NaN</td>\n",
              "      <td>NaN</td>\n",
              "      <td>NaN</td>\n",
              "      <td>NaN</td>\n",
              "      <td>NaN</td>\n",
              "      <td>NaN</td>\n",
              "    </tr>\n",
              "    <tr>\n",
              "      <th>70797</th>\n",
              "      <td>2002/12/30</td>\n",
              "      <td>23:38:49.79</td>\n",
              "      <td>eq</td>\n",
              "      <td>NaN</td>\n",
              "      <td>l</td>\n",
              "      <td>2.05</td>\n",
              "      <td>l</td>\n",
              "      <td>NaN</td>\n",
              "      <td>NaN</td>\n",
              "      <td>35.31450</td>\n",
              "      <td>...</td>\n",
              "      <td>NaN</td>\n",
              "      <td>NaN</td>\n",
              "      <td>NaN</td>\n",
              "      <td>NaN</td>\n",
              "      <td>NaN</td>\n",
              "      <td>NaN</td>\n",
              "      <td>NaN</td>\n",
              "      <td>NaN</td>\n",
              "      <td>NaN</td>\n",
              "      <td>NaN</td>\n",
              "    </tr>\n",
              "  </tbody>\n",
              "</table>\n",
              "<p>70798 rows × 34 columns</p>\n",
              "</div>\n",
              "      <button class=\"colab-df-convert\" onclick=\"convertToInteractive('df-f14b8e55-f3ad-4570-b944-c434a756dbc8')\"\n",
              "              title=\"Convert this dataframe to an interactive table.\"\n",
              "              style=\"display:none;\">\n",
              "        \n",
              "  <svg xmlns=\"http://www.w3.org/2000/svg\" height=\"24px\"viewBox=\"0 0 24 24\"\n",
              "       width=\"24px\">\n",
              "    <path d=\"M0 0h24v24H0V0z\" fill=\"none\"/>\n",
              "    <path d=\"M18.56 5.44l.94 2.06.94-2.06 2.06-.94-2.06-.94-.94-2.06-.94 2.06-2.06.94zm-11 1L8.5 8.5l.94-2.06 2.06-.94-2.06-.94L8.5 2.5l-.94 2.06-2.06.94zm10 10l.94 2.06.94-2.06 2.06-.94-2.06-.94-.94-2.06-.94 2.06-2.06.94z\"/><path d=\"M17.41 7.96l-1.37-1.37c-.4-.4-.92-.59-1.43-.59-.52 0-1.04.2-1.43.59L10.3 9.45l-7.72 7.72c-.78.78-.78 2.05 0 2.83L4 21.41c.39.39.9.59 1.41.59.51 0 1.02-.2 1.41-.59l7.78-7.78 2.81-2.81c.8-.78.8-2.07 0-2.86zM5.41 20L4 18.59l7.72-7.72 1.47 1.35L5.41 20z\"/>\n",
              "  </svg>\n",
              "      </button>\n",
              "      \n",
              "  <style>\n",
              "    .colab-df-container {\n",
              "      display:flex;\n",
              "      flex-wrap:wrap;\n",
              "      gap: 12px;\n",
              "    }\n",
              "\n",
              "    .colab-df-convert {\n",
              "      background-color: #E8F0FE;\n",
              "      border: none;\n",
              "      border-radius: 50%;\n",
              "      cursor: pointer;\n",
              "      display: none;\n",
              "      fill: #1967D2;\n",
              "      height: 32px;\n",
              "      padding: 0 0 0 0;\n",
              "      width: 32px;\n",
              "    }\n",
              "\n",
              "    .colab-df-convert:hover {\n",
              "      background-color: #E2EBFA;\n",
              "      box-shadow: 0px 1px 2px rgba(60, 64, 67, 0.3), 0px 1px 3px 1px rgba(60, 64, 67, 0.15);\n",
              "      fill: #174EA6;\n",
              "    }\n",
              "\n",
              "    [theme=dark] .colab-df-convert {\n",
              "      background-color: #3B4455;\n",
              "      fill: #D2E3FC;\n",
              "    }\n",
              "\n",
              "    [theme=dark] .colab-df-convert:hover {\n",
              "      background-color: #434B5C;\n",
              "      box-shadow: 0px 1px 3px 1px rgba(0, 0, 0, 0.15);\n",
              "      filter: drop-shadow(0px 1px 2px rgba(0, 0, 0, 0.3));\n",
              "      fill: #FFFFFF;\n",
              "    }\n",
              "  </style>\n",
              "\n",
              "      <script>\n",
              "        const buttonEl =\n",
              "          document.querySelector('#df-f14b8e55-f3ad-4570-b944-c434a756dbc8 button.colab-df-convert');\n",
              "        buttonEl.style.display =\n",
              "          google.colab.kernel.accessAllowed ? 'block' : 'none';\n",
              "\n",
              "        async function convertToInteractive(key) {\n",
              "          const element = document.querySelector('#df-f14b8e55-f3ad-4570-b944-c434a756dbc8');\n",
              "          const dataTable =\n",
              "            await google.colab.kernel.invokeFunction('convertToInteractive',\n",
              "                                                     [key], {});\n",
              "          if (!dataTable) return;\n",
              "\n",
              "          const docLinkHtml = 'Like what you see? Visit the ' +\n",
              "            '<a target=\"_blank\" href=https://colab.research.google.com/notebooks/data_table.ipynb>data table notebook</a>'\n",
              "            + ' to learn more about interactive tables.';\n",
              "          element.innerHTML = '';\n",
              "          dataTable['output_type'] = 'display_data';\n",
              "          await google.colab.output.renderOutput(dataTable, element);\n",
              "          const docLink = document.createElement('div');\n",
              "          docLink.innerHTML = docLinkHtml;\n",
              "          element.appendChild(docLink);\n",
              "        }\n",
              "      </script>\n",
              "    </div>\n",
              "  </div>\n",
              "  "
            ]
          },
          "metadata": {},
          "execution_count": 3
        }
      ]
    },
    {
      "cell_type": "code",
      "source": [
        "eqs.columns"
      ],
      "metadata": {
        "colab": {
          "base_uri": "https://localhost:8080/"
        },
        "id": "VjcFFCLBjfeX",
        "outputId": "90bb6739-ee5b-4b51-ca22-a9ad2d48ccc7"
      },
      "execution_count": 4,
      "outputs": [
        {
          "output_type": "execute_result",
          "data": {
            "text/plain": [
              "Index(['#YYY/MM/DD', 'HH:mm:SS.ss', 'ET', 'GT', 'MAG', 'Unnamed: 5', 'M',\n",
              "       'Unnamed: 7', 'Unnamed: 8', 'Unnamed: 9', 'LAT', 'Unnamed: 11',\n",
              "       'Unnamed: 12', 'Unnamed: 13', 'Unnamed: 14', 'Unnamed: 15',\n",
              "       'Unnamed: 16', 'LON', 'Unnamed: 18', 'Unnamed: 19', 'Unnamed: 20',\n",
              "       'Unnamed: 21', 'Unnamed: 22', 'DEPTH', 'Q', 'Unnamed: 25', 'EVID',\n",
              "       'Unnamed: 27', 'Unnamed: 28', 'Unnamed: 29', 'Unnamed: 30',\n",
              "       'Unnamed: 31', 'NPH', 'NGRM'],\n",
              "      dtype='object')"
            ]
          },
          "metadata": {},
          "execution_count": 4
        }
      ]
    },
    {
      "cell_type": "code",
      "source": [
        "eqs.rename({'#YYY/MM/DD': 'date',\n",
        "            'HH:mm:SS.ss': 'time'}, axis=1, inplace=True)\n",
        "eqs.head()"
      ],
      "metadata": {
        "id": "X2ePmiGdkFOY",
        "colab": {
          "base_uri": "https://localhost:8080/",
          "height": 236
        },
        "outputId": "0d55fe0f-83ae-4818-f2b2-02d55740c707"
      },
      "execution_count": 5,
      "outputs": [
        {
          "output_type": "execute_result",
          "data": {
            "text/plain": [
              "         date         time  ET  GT MAG  Unnamed: 5  M  Unnamed: 7  Unnamed: 8  \\\n",
              "0  1984/01/01  01:30:57.52  eq NaN   l        2.02  c         NaN         NaN   \n",
              "1  1984/01/01  05:31:34.16  eq NaN   l        2.12  c         NaN         NaN   \n",
              "2  1984/01/01  06:59:05.14  eq NaN   l        2.43  c         NaN         NaN   \n",
              "3  1984/01/01  11:10:25.29  eq NaN   l        2.07  c         NaN         NaN   \n",
              "4  1984/01/01  19:38:19.79  eq NaN   l        2.13  c         NaN         NaN   \n",
              "\n",
              "   Unnamed: 9  ...     Q  Unnamed: 25  EVID Unnamed: 27 Unnamed: 28  \\\n",
              "0      33.246  ...  17.0          NaN   NaN         NaN         NaN   \n",
              "1      32.945  ...  42.0          NaN   NaN         NaN         NaN   \n",
              "2      33.343  ...  30.0          NaN   NaN         NaN         NaN   \n",
              "3      33.668  ...   NaN          NaN   NaN         NaN         NaN   \n",
              "4      33.963  ...  49.0          NaN   NaN         NaN         NaN   \n",
              "\n",
              "   Unnamed: 29  Unnamed: 30  Unnamed: 31  NPH  NGRM  \n",
              "0          NaN          NaN          NaN  NaN   NaN  \n",
              "1          NaN          NaN          NaN  NaN   NaN  \n",
              "2          NaN          NaN          NaN  NaN   NaN  \n",
              "3          NaN          NaN          NaN  NaN   NaN  \n",
              "4          NaN          NaN          NaN  NaN   NaN  \n",
              "\n",
              "[5 rows x 34 columns]"
            ],
            "text/html": [
              "\n",
              "  <div id=\"df-9fda23cd-5fa2-47a8-b39d-305f08f26cd8\">\n",
              "    <div class=\"colab-df-container\">\n",
              "      <div>\n",
              "<style scoped>\n",
              "    .dataframe tbody tr th:only-of-type {\n",
              "        vertical-align: middle;\n",
              "    }\n",
              "\n",
              "    .dataframe tbody tr th {\n",
              "        vertical-align: top;\n",
              "    }\n",
              "\n",
              "    .dataframe thead th {\n",
              "        text-align: right;\n",
              "    }\n",
              "</style>\n",
              "<table border=\"1\" class=\"dataframe\">\n",
              "  <thead>\n",
              "    <tr style=\"text-align: right;\">\n",
              "      <th></th>\n",
              "      <th>date</th>\n",
              "      <th>time</th>\n",
              "      <th>ET</th>\n",
              "      <th>GT</th>\n",
              "      <th>MAG</th>\n",
              "      <th>Unnamed: 5</th>\n",
              "      <th>M</th>\n",
              "      <th>Unnamed: 7</th>\n",
              "      <th>Unnamed: 8</th>\n",
              "      <th>Unnamed: 9</th>\n",
              "      <th>...</th>\n",
              "      <th>Q</th>\n",
              "      <th>Unnamed: 25</th>\n",
              "      <th>EVID</th>\n",
              "      <th>Unnamed: 27</th>\n",
              "      <th>Unnamed: 28</th>\n",
              "      <th>Unnamed: 29</th>\n",
              "      <th>Unnamed: 30</th>\n",
              "      <th>Unnamed: 31</th>\n",
              "      <th>NPH</th>\n",
              "      <th>NGRM</th>\n",
              "    </tr>\n",
              "  </thead>\n",
              "  <tbody>\n",
              "    <tr>\n",
              "      <th>0</th>\n",
              "      <td>1984/01/01</td>\n",
              "      <td>01:30:57.52</td>\n",
              "      <td>eq</td>\n",
              "      <td>NaN</td>\n",
              "      <td>l</td>\n",
              "      <td>2.02</td>\n",
              "      <td>c</td>\n",
              "      <td>NaN</td>\n",
              "      <td>NaN</td>\n",
              "      <td>33.246</td>\n",
              "      <td>...</td>\n",
              "      <td>17.0</td>\n",
              "      <td>NaN</td>\n",
              "      <td>NaN</td>\n",
              "      <td>NaN</td>\n",
              "      <td>NaN</td>\n",
              "      <td>NaN</td>\n",
              "      <td>NaN</td>\n",
              "      <td>NaN</td>\n",
              "      <td>NaN</td>\n",
              "      <td>NaN</td>\n",
              "    </tr>\n",
              "    <tr>\n",
              "      <th>1</th>\n",
              "      <td>1984/01/01</td>\n",
              "      <td>05:31:34.16</td>\n",
              "      <td>eq</td>\n",
              "      <td>NaN</td>\n",
              "      <td>l</td>\n",
              "      <td>2.12</td>\n",
              "      <td>c</td>\n",
              "      <td>NaN</td>\n",
              "      <td>NaN</td>\n",
              "      <td>32.945</td>\n",
              "      <td>...</td>\n",
              "      <td>42.0</td>\n",
              "      <td>NaN</td>\n",
              "      <td>NaN</td>\n",
              "      <td>NaN</td>\n",
              "      <td>NaN</td>\n",
              "      <td>NaN</td>\n",
              "      <td>NaN</td>\n",
              "      <td>NaN</td>\n",
              "      <td>NaN</td>\n",
              "      <td>NaN</td>\n",
              "    </tr>\n",
              "    <tr>\n",
              "      <th>2</th>\n",
              "      <td>1984/01/01</td>\n",
              "      <td>06:59:05.14</td>\n",
              "      <td>eq</td>\n",
              "      <td>NaN</td>\n",
              "      <td>l</td>\n",
              "      <td>2.43</td>\n",
              "      <td>c</td>\n",
              "      <td>NaN</td>\n",
              "      <td>NaN</td>\n",
              "      <td>33.343</td>\n",
              "      <td>...</td>\n",
              "      <td>30.0</td>\n",
              "      <td>NaN</td>\n",
              "      <td>NaN</td>\n",
              "      <td>NaN</td>\n",
              "      <td>NaN</td>\n",
              "      <td>NaN</td>\n",
              "      <td>NaN</td>\n",
              "      <td>NaN</td>\n",
              "      <td>NaN</td>\n",
              "      <td>NaN</td>\n",
              "    </tr>\n",
              "    <tr>\n",
              "      <th>3</th>\n",
              "      <td>1984/01/01</td>\n",
              "      <td>11:10:25.29</td>\n",
              "      <td>eq</td>\n",
              "      <td>NaN</td>\n",
              "      <td>l</td>\n",
              "      <td>2.07</td>\n",
              "      <td>c</td>\n",
              "      <td>NaN</td>\n",
              "      <td>NaN</td>\n",
              "      <td>33.668</td>\n",
              "      <td>...</td>\n",
              "      <td>NaN</td>\n",
              "      <td>NaN</td>\n",
              "      <td>NaN</td>\n",
              "      <td>NaN</td>\n",
              "      <td>NaN</td>\n",
              "      <td>NaN</td>\n",
              "      <td>NaN</td>\n",
              "      <td>NaN</td>\n",
              "      <td>NaN</td>\n",
              "      <td>NaN</td>\n",
              "    </tr>\n",
              "    <tr>\n",
              "      <th>4</th>\n",
              "      <td>1984/01/01</td>\n",
              "      <td>19:38:19.79</td>\n",
              "      <td>eq</td>\n",
              "      <td>NaN</td>\n",
              "      <td>l</td>\n",
              "      <td>2.13</td>\n",
              "      <td>c</td>\n",
              "      <td>NaN</td>\n",
              "      <td>NaN</td>\n",
              "      <td>33.963</td>\n",
              "      <td>...</td>\n",
              "      <td>49.0</td>\n",
              "      <td>NaN</td>\n",
              "      <td>NaN</td>\n",
              "      <td>NaN</td>\n",
              "      <td>NaN</td>\n",
              "      <td>NaN</td>\n",
              "      <td>NaN</td>\n",
              "      <td>NaN</td>\n",
              "      <td>NaN</td>\n",
              "      <td>NaN</td>\n",
              "    </tr>\n",
              "  </tbody>\n",
              "</table>\n",
              "<p>5 rows × 34 columns</p>\n",
              "</div>\n",
              "      <button class=\"colab-df-convert\" onclick=\"convertToInteractive('df-9fda23cd-5fa2-47a8-b39d-305f08f26cd8')\"\n",
              "              title=\"Convert this dataframe to an interactive table.\"\n",
              "              style=\"display:none;\">\n",
              "        \n",
              "  <svg xmlns=\"http://www.w3.org/2000/svg\" height=\"24px\"viewBox=\"0 0 24 24\"\n",
              "       width=\"24px\">\n",
              "    <path d=\"M0 0h24v24H0V0z\" fill=\"none\"/>\n",
              "    <path d=\"M18.56 5.44l.94 2.06.94-2.06 2.06-.94-2.06-.94-.94-2.06-.94 2.06-2.06.94zm-11 1L8.5 8.5l.94-2.06 2.06-.94-2.06-.94L8.5 2.5l-.94 2.06-2.06.94zm10 10l.94 2.06.94-2.06 2.06-.94-2.06-.94-.94-2.06-.94 2.06-2.06.94z\"/><path d=\"M17.41 7.96l-1.37-1.37c-.4-.4-.92-.59-1.43-.59-.52 0-1.04.2-1.43.59L10.3 9.45l-7.72 7.72c-.78.78-.78 2.05 0 2.83L4 21.41c.39.39.9.59 1.41.59.51 0 1.02-.2 1.41-.59l7.78-7.78 2.81-2.81c.8-.78.8-2.07 0-2.86zM5.41 20L4 18.59l7.72-7.72 1.47 1.35L5.41 20z\"/>\n",
              "  </svg>\n",
              "      </button>\n",
              "      \n",
              "  <style>\n",
              "    .colab-df-container {\n",
              "      display:flex;\n",
              "      flex-wrap:wrap;\n",
              "      gap: 12px;\n",
              "    }\n",
              "\n",
              "    .colab-df-convert {\n",
              "      background-color: #E8F0FE;\n",
              "      border: none;\n",
              "      border-radius: 50%;\n",
              "      cursor: pointer;\n",
              "      display: none;\n",
              "      fill: #1967D2;\n",
              "      height: 32px;\n",
              "      padding: 0 0 0 0;\n",
              "      width: 32px;\n",
              "    }\n",
              "\n",
              "    .colab-df-convert:hover {\n",
              "      background-color: #E2EBFA;\n",
              "      box-shadow: 0px 1px 2px rgba(60, 64, 67, 0.3), 0px 1px 3px 1px rgba(60, 64, 67, 0.15);\n",
              "      fill: #174EA6;\n",
              "    }\n",
              "\n",
              "    [theme=dark] .colab-df-convert {\n",
              "      background-color: #3B4455;\n",
              "      fill: #D2E3FC;\n",
              "    }\n",
              "\n",
              "    [theme=dark] .colab-df-convert:hover {\n",
              "      background-color: #434B5C;\n",
              "      box-shadow: 0px 1px 3px 1px rgba(0, 0, 0, 0.15);\n",
              "      filter: drop-shadow(0px 1px 2px rgba(0, 0, 0, 0.3));\n",
              "      fill: #FFFFFF;\n",
              "    }\n",
              "  </style>\n",
              "\n",
              "      <script>\n",
              "        const buttonEl =\n",
              "          document.querySelector('#df-9fda23cd-5fa2-47a8-b39d-305f08f26cd8 button.colab-df-convert');\n",
              "        buttonEl.style.display =\n",
              "          google.colab.kernel.accessAllowed ? 'block' : 'none';\n",
              "\n",
              "        async function convertToInteractive(key) {\n",
              "          const element = document.querySelector('#df-9fda23cd-5fa2-47a8-b39d-305f08f26cd8');\n",
              "          const dataTable =\n",
              "            await google.colab.kernel.invokeFunction('convertToInteractive',\n",
              "                                                     [key], {});\n",
              "          if (!dataTable) return;\n",
              "\n",
              "          const docLinkHtml = 'Like what you see? Visit the ' +\n",
              "            '<a target=\"_blank\" href=https://colab.research.google.com/notebooks/data_table.ipynb>data table notebook</a>'\n",
              "            + ' to learn more about interactive tables.';\n",
              "          element.innerHTML = '';\n",
              "          dataTable['output_type'] = 'display_data';\n",
              "          await google.colab.output.renderOutput(dataTable, element);\n",
              "          const docLink = document.createElement('div');\n",
              "          docLink.innerHTML = docLinkHtml;\n",
              "          element.appendChild(docLink);\n",
              "        }\n",
              "      </script>\n",
              "    </div>\n",
              "  </div>\n",
              "  "
            ]
          },
          "metadata": {},
          "execution_count": 5
        }
      ]
    },
    {
      "cell_type": "code",
      "source": [
        "eqs.time.dtype, eqs.date.dtype"
      ],
      "metadata": {
        "colab": {
          "base_uri": "https://localhost:8080/"
        },
        "id": "pFs2_FMVkVfQ",
        "outputId": "73fabf21-6e7e-42ea-91e2-6e0ae1c0c4d9"
      },
      "execution_count": 6,
      "outputs": [
        {
          "output_type": "execute_result",
          "data": {
            "text/plain": [
              "(dtype('O'), dtype('O'))"
            ]
          },
          "metadata": {},
          "execution_count": 6
        }
      ]
    },
    {
      "cell_type": "code",
      "source": [
        "pd.to_datetime(\"1984/01/01\" + \" \" + \"19:38:19.79\")"
      ],
      "metadata": {
        "colab": {
          "base_uri": "https://localhost:8080/"
        },
        "id": "3VjBOOh-koUc",
        "outputId": "f3c2172f-ff1a-4bc2-cde4-e41c2d9fd2af"
      },
      "execution_count": 7,
      "outputs": [
        {
          "output_type": "execute_result",
          "data": {
            "text/plain": [
              "Timestamp('1984-01-01 19:38:19.790000')"
            ]
          },
          "metadata": {},
          "execution_count": 7
        }
      ]
    },
    {
      "cell_type": "code",
      "source": [
        "eqs.date.map(pd.to_datetime)"
      ],
      "metadata": {
        "colab": {
          "base_uri": "https://localhost:8080/"
        },
        "id": "Ro2TvWHlk9hW",
        "outputId": "29909174-7b61-4fe2-f1cf-d6113271f40f"
      },
      "execution_count": 8,
      "outputs": [
        {
          "output_type": "execute_result",
          "data": {
            "text/plain": [
              "0       1984-01-01\n",
              "1       1984-01-01\n",
              "2       1984-01-01\n",
              "3       1984-01-01\n",
              "4       1984-01-01\n",
              "           ...    \n",
              "70793   2002-12-29\n",
              "70794   2002-12-29\n",
              "70795   2002-12-29\n",
              "70796   2002-12-30\n",
              "70797   2002-12-30\n",
              "Name: date, Length: 70798, dtype: datetime64[ns]"
            ]
          },
          "metadata": {},
          "execution_count": 8
        }
      ]
    },
    {
      "cell_type": "code",
      "source": [
        "for i in range(len(eqs)):\n",
        "  if eqs.iloc[i]['time'].endswith(\"60.00\"):\n",
        "    print(eqs.iloc[i]['time'])\n",
        "    print(eqs.iloc[i]['time'].replace(\"60.00\", \"59.99\"))\n",
        "    eqs.at[i, 'time'] = eqs.iloc[i]['time'].replace(\"60.00\", \"59.99\")\n",
        "    print(eqs.iloc[i]['time'])"
      ],
      "metadata": {
        "id": "9j96NklPlOtm",
        "colab": {
          "base_uri": "https://localhost:8080/"
        },
        "outputId": "b1c8a48b-4650-47fe-a91a-4419119982e1"
      },
      "execution_count": 9,
      "outputs": [
        {
          "output_type": "stream",
          "name": "stdout",
          "text": [
            "04:48:60.00\n",
            "04:48:59.99\n",
            "04:48:59.99\n",
            "14:19:60.00\n",
            "14:19:59.99\n",
            "14:19:59.99\n",
            "21:48:60.00\n",
            "21:48:59.99\n",
            "21:48:59.99\n",
            "15:34:60.00\n",
            "15:34:59.99\n",
            "15:34:59.99\n",
            "06:41:60.00\n",
            "06:41:59.99\n",
            "06:41:59.99\n"
          ]
        }
      ]
    },
    {
      "cell_type": "code",
      "source": [
        "eqs['datetime'] = [eqs.iloc[i].date + \" \" + eqs.iloc[i].time for i in range(len(eqs))]\n",
        "eqs[\"datetime\"] = eqs[\"datetime\"].map(pd.to_datetime)"
      ],
      "metadata": {
        "id": "mHdZcfjflvcw"
      },
      "execution_count": 10,
      "outputs": []
    },
    {
      "cell_type": "code",
      "source": [
        "for i in range(10):\n",
        "  print(eqs.iloc[i].date + \" \" + eqs.iloc[i].time)"
      ],
      "metadata": {
        "id": "hc9yz93Rc0NF",
        "outputId": "5228bc60-3278-4c27-93fd-c6fa820367ec",
        "colab": {
          "base_uri": "https://localhost:8080/"
        }
      },
      "execution_count": 11,
      "outputs": [
        {
          "output_type": "stream",
          "name": "stdout",
          "text": [
            "1984/01/01 01:30:57.52\n",
            "1984/01/01 05:31:34.16\n",
            "1984/01/01 06:59:05.14\n",
            "1984/01/01 11:10:25.29\n",
            "1984/01/01 19:38:19.79\n",
            "1984/01/01 19:39:19.67\n",
            "1984/01/01 20:19:47.21\n",
            "1984/01/02 03:51:52.76\n",
            "1984/01/02 05:00:12.44\n",
            "1984/01/02 05:02:17.29\n"
          ]
        }
      ]
    },
    {
      "cell_type": "code",
      "source": [
        "#delete\n",
        "# first I create the timetamps pairs for the beginning and end of the valid periods. \n",
        "# I do it with a for loop that appends pairs of timestamps to a list that I create at the beginning\n",
        "\n",
        "# create empty container\n",
        "ss = []\n",
        "\n",
        "# loop through all year pairs as year and fraction of year\n",
        "for t in [(1984, 1986.5), \n",
        "          (1990.3, 1992.1), \n",
        "          (1994.6, 1995.6),\n",
        "          (1996.1,1996.5), \n",
        "          (1997,1997.6), \n",
        "          (1997.75,1998.15), \n",
        "          (1998.25,1999.35), \n",
        "          (2000.55,2000.8),\n",
        "          (2000.9 ,2001.25), \n",
        "          (2001.6 ,2002), \n",
        "          (2002.5 ,2003)]:\n",
        "    \n",
        "    # for each pair I convert the year to datetime (easy)\n",
        "    # then I convert the fraction of year and convert it to days and convert that to a delta-time\n",
        "    # finally I add that deltatime to the year datetime. \n",
        "    ss.append((pd.to_datetime(int(t[0]), format=\"%Y\") \n",
        "        + pd.Timedelta('%.f days'%((t[0] - int(t[0])) * 365.25)),\n",
        "               pd.to_datetime(int(t[1]), format=\"%Y\") \n",
        "        + pd.Timedelta('%.f days'%((t[1] - int(t[1])) * 365.25))))"
      ],
      "metadata": {
        "id": "d8iOUQ1m55pm"
      },
      "execution_count": 12,
      "outputs": []
    },
    {
      "cell_type": "code",
      "source": [
        "ss"
      ],
      "metadata": {
        "id": "7YNTcXpu7ApC",
        "outputId": "3d4686bd-6f0e-456b-8ff7-e756129ed857",
        "colab": {
          "base_uri": "https://localhost:8080/"
        }
      },
      "execution_count": 13,
      "outputs": [
        {
          "output_type": "execute_result",
          "data": {
            "text/plain": [
              "[(Timestamp('1984-01-01 00:00:00'), Timestamp('1986-07-03 00:00:00')),\n",
              " (Timestamp('1990-04-21 00:00:00'), Timestamp('1992-02-07 00:00:00')),\n",
              " (Timestamp('1994-08-08 00:00:00'), Timestamp('1995-08-08 00:00:00')),\n",
              " (Timestamp('1996-02-07 00:00:00'), Timestamp('1996-07-02 00:00:00')),\n",
              " (Timestamp('1997-01-01 00:00:00'), Timestamp('1997-08-08 00:00:00')),\n",
              " (Timestamp('1997-10-02 00:00:00'), Timestamp('1998-02-25 00:00:00')),\n",
              " (Timestamp('1998-04-02 00:00:00'), Timestamp('1999-05-09 00:00:00')),\n",
              " (Timestamp('2000-07-20 00:00:00'), Timestamp('2000-10-19 00:00:00')),\n",
              " (Timestamp('2000-11-25 00:00:00'), Timestamp('2001-04-02 00:00:00')),\n",
              " (Timestamp('2001-08-08 00:00:00'), Timestamp('2002-01-01 00:00:00')),\n",
              " (Timestamp('2002-07-03 00:00:00'), Timestamp('2003-01-01 00:00:00'))]"
            ]
          },
          "metadata": {},
          "execution_count": 13
        }
      ]
    },
    {
      "cell_type": "code",
      "source": [
        "gooddates = ((eqs.datetime >= ss[0][0]) * (eqs.datetime <= ss[0][1]) +\\\n",
        "            (eqs.datetime >= ss[1][0]) * (eqs.datetime <= ss[1][1]) +\\\n",
        "            (eqs.datetime >= ss[2][0]) * (eqs.datetime <= ss[2][1]) +\\\n",
        "            (eqs.datetime >= ss[3][0]) * (eqs.datetime <= ss[3][1]) +\\\n",
        "            (eqs.datetime >= ss[4][0]) * (eqs.datetime <= ss[4][1]) +\\\n",
        "            (eqs.datetime >= ss[5][0]) * (eqs.datetime <= ss[5][1]) +\\\n",
        "            (eqs.datetime >= ss[6][0]) * (eqs.datetime <= ss[6][1]) +\\\n",
        "            (eqs.datetime >= ss[7][0]) * (eqs.datetime <= ss[7][1]) +\\\n",
        "            (eqs.datetime >= ss[8][0]) * (eqs.datetime <= ss[8][1]) +\\\n",
        "            (eqs.datetime >= ss[9][0]) * (eqs.datetime <= ss[9][1]) +\\\n",
        "            (eqs.datetime >= ss[10][0]) * (eqs.datetime <= ss[10][1])).values"
      ],
      "metadata": {
        "id": "oV-Z3iMg7CHI"
      },
      "execution_count": 14,
      "outputs": []
    },
    {
      "cell_type": "code",
      "source": [
        "gooddates"
      ],
      "metadata": {
        "id": "9gbd1FlL7oKa",
        "outputId": "de3ac424-8914-46af-dcd3-2c68bf11d978",
        "colab": {
          "base_uri": "https://localhost:8080/"
        }
      },
      "execution_count": 15,
      "outputs": [
        {
          "output_type": "execute_result",
          "data": {
            "text/plain": [
              "array([ True,  True,  True, ...,  True,  True,  True])"
            ]
          },
          "metadata": {},
          "execution_count": 15
        }
      ]
    },
    {
      "cell_type": "code",
      "source": [
        "eqs.columns"
      ],
      "metadata": {
        "id": "L-hY7vD-7sOa",
        "outputId": "fb619b7d-e2c7-490c-944a-93095f06ff51",
        "colab": {
          "base_uri": "https://localhost:8080/"
        }
      },
      "execution_count": 16,
      "outputs": [
        {
          "output_type": "execute_result",
          "data": {
            "text/plain": [
              "Index(['date', 'time', 'ET', 'GT', 'MAG', 'Unnamed: 5', 'M', 'Unnamed: 7',\n",
              "       'Unnamed: 8', 'Unnamed: 9', 'LAT', 'Unnamed: 11', 'Unnamed: 12',\n",
              "       'Unnamed: 13', 'Unnamed: 14', 'Unnamed: 15', 'Unnamed: 16', 'LON',\n",
              "       'Unnamed: 18', 'Unnamed: 19', 'Unnamed: 20', 'Unnamed: 21',\n",
              "       'Unnamed: 22', 'DEPTH', 'Q', 'Unnamed: 25', 'EVID', 'Unnamed: 27',\n",
              "       'Unnamed: 28', 'Unnamed: 29', 'Unnamed: 30', 'Unnamed: 31', 'NPH',\n",
              "       'NGRM', 'datetime'],\n",
              "      dtype='object')"
            ]
          },
          "metadata": {},
          "execution_count": 16
        }
      ]
    },
    {
      "cell_type": "code",
      "source": [
        "eqGoodData = eqs[gooddates][[\"datetime\", \"Unnamed: 5\"]]"
      ],
      "metadata": {
        "id": "if6vh_O99QXn"
      },
      "execution_count": 17,
      "outputs": []
    },
    {
      "cell_type": "code",
      "source": [
        "eqGoodData.rename({\"Unnamed: 5\":\"MAG\"},axis=1, inplace=True)"
      ],
      "metadata": {
        "id": "XB0fr2UE-WJ3"
      },
      "execution_count": 18,
      "outputs": []
    },
    {
      "cell_type": "code",
      "source": [
        "eqGoodData = eqGoodData[eqGoodData[\"MAG\"] >=2]"
      ],
      "metadata": {
        "id": "4L0u4CCF84ZE"
      },
      "execution_count": 19,
      "outputs": []
    },
    {
      "cell_type": "code",
      "source": [
        "eqGoodData.shape"
      ],
      "metadata": {
        "id": "eE5KgCrY9gyw",
        "colab": {
          "base_uri": "https://localhost:8080/"
        },
        "outputId": "1cfc6847-0cb9-4881-ead6-66ed8bcf7b2c"
      },
      "execution_count": 20,
      "outputs": [
        {
          "output_type": "execute_result",
          "data": {
            "text/plain": [
              "(18852, 2)"
            ]
          },
          "metadata": {},
          "execution_count": 20
        }
      ]
    },
    {
      "cell_type": "code",
      "source": [
        "eqGoodData[\"gaps\"] = eqGoodData[\"datetime\"].diff().values.astype(float)\n",
        "eqGoodData= eqGoodData[1:]"
      ],
      "metadata": {
        "id": "6O10TLs4_MT8"
      },
      "execution_count": 21,
      "outputs": []
    },
    {
      "cell_type": "code",
      "source": [
        "eqGoodData.describe()"
      ],
      "metadata": {
        "colab": {
          "base_uri": "https://localhost:8080/",
          "height": 300
        },
        "id": "u6E4UCKr_vd9",
        "outputId": "46038d6d-5dc8-453b-8f45-844f37c9b637"
      },
      "execution_count": 23,
      "outputs": [
        {
          "output_type": "execute_result",
          "data": {
            "text/plain": [
              "                MAG          gaps\n",
              "count  18851.000000  1.885100e+04\n",
              "mean       2.399508  3.180324e+13\n",
              "std        0.392437  1.103955e+15\n",
              "min        2.000000  1.700000e+08\n",
              "25%        2.110000  2.737220e+12\n",
              "50%        2.290000  8.947620e+12\n",
              "75%        2.570000  2.133972e+13\n",
              "max        5.800000  1.199632e+17"
            ],
            "text/html": [
              "\n",
              "  <div id=\"df-5c7a3eb7-4f58-4af7-8699-4a437d939b8e\">\n",
              "    <div class=\"colab-df-container\">\n",
              "      <div>\n",
              "<style scoped>\n",
              "    .dataframe tbody tr th:only-of-type {\n",
              "        vertical-align: middle;\n",
              "    }\n",
              "\n",
              "    .dataframe tbody tr th {\n",
              "        vertical-align: top;\n",
              "    }\n",
              "\n",
              "    .dataframe thead th {\n",
              "        text-align: right;\n",
              "    }\n",
              "</style>\n",
              "<table border=\"1\" class=\"dataframe\">\n",
              "  <thead>\n",
              "    <tr style=\"text-align: right;\">\n",
              "      <th></th>\n",
              "      <th>MAG</th>\n",
              "      <th>gaps</th>\n",
              "    </tr>\n",
              "  </thead>\n",
              "  <tbody>\n",
              "    <tr>\n",
              "      <th>count</th>\n",
              "      <td>18851.000000</td>\n",
              "      <td>1.885100e+04</td>\n",
              "    </tr>\n",
              "    <tr>\n",
              "      <th>mean</th>\n",
              "      <td>2.399508</td>\n",
              "      <td>3.180324e+13</td>\n",
              "    </tr>\n",
              "    <tr>\n",
              "      <th>std</th>\n",
              "      <td>0.392437</td>\n",
              "      <td>1.103955e+15</td>\n",
              "    </tr>\n",
              "    <tr>\n",
              "      <th>min</th>\n",
              "      <td>2.000000</td>\n",
              "      <td>1.700000e+08</td>\n",
              "    </tr>\n",
              "    <tr>\n",
              "      <th>25%</th>\n",
              "      <td>2.110000</td>\n",
              "      <td>2.737220e+12</td>\n",
              "    </tr>\n",
              "    <tr>\n",
              "      <th>50%</th>\n",
              "      <td>2.290000</td>\n",
              "      <td>8.947620e+12</td>\n",
              "    </tr>\n",
              "    <tr>\n",
              "      <th>75%</th>\n",
              "      <td>2.570000</td>\n",
              "      <td>2.133972e+13</td>\n",
              "    </tr>\n",
              "    <tr>\n",
              "      <th>max</th>\n",
              "      <td>5.800000</td>\n",
              "      <td>1.199632e+17</td>\n",
              "    </tr>\n",
              "  </tbody>\n",
              "</table>\n",
              "</div>\n",
              "      <button class=\"colab-df-convert\" onclick=\"convertToInteractive('df-5c7a3eb7-4f58-4af7-8699-4a437d939b8e')\"\n",
              "              title=\"Convert this dataframe to an interactive table.\"\n",
              "              style=\"display:none;\">\n",
              "        \n",
              "  <svg xmlns=\"http://www.w3.org/2000/svg\" height=\"24px\"viewBox=\"0 0 24 24\"\n",
              "       width=\"24px\">\n",
              "    <path d=\"M0 0h24v24H0V0z\" fill=\"none\"/>\n",
              "    <path d=\"M18.56 5.44l.94 2.06.94-2.06 2.06-.94-2.06-.94-.94-2.06-.94 2.06-2.06.94zm-11 1L8.5 8.5l.94-2.06 2.06-.94-2.06-.94L8.5 2.5l-.94 2.06-2.06.94zm10 10l.94 2.06.94-2.06 2.06-.94-2.06-.94-.94-2.06-.94 2.06-2.06.94z\"/><path d=\"M17.41 7.96l-1.37-1.37c-.4-.4-.92-.59-1.43-.59-.52 0-1.04.2-1.43.59L10.3 9.45l-7.72 7.72c-.78.78-.78 2.05 0 2.83L4 21.41c.39.39.9.59 1.41.59.51 0 1.02-.2 1.41-.59l7.78-7.78 2.81-2.81c.8-.78.8-2.07 0-2.86zM5.41 20L4 18.59l7.72-7.72 1.47 1.35L5.41 20z\"/>\n",
              "  </svg>\n",
              "      </button>\n",
              "      \n",
              "  <style>\n",
              "    .colab-df-container {\n",
              "      display:flex;\n",
              "      flex-wrap:wrap;\n",
              "      gap: 12px;\n",
              "    }\n",
              "\n",
              "    .colab-df-convert {\n",
              "      background-color: #E8F0FE;\n",
              "      border: none;\n",
              "      border-radius: 50%;\n",
              "      cursor: pointer;\n",
              "      display: none;\n",
              "      fill: #1967D2;\n",
              "      height: 32px;\n",
              "      padding: 0 0 0 0;\n",
              "      width: 32px;\n",
              "    }\n",
              "\n",
              "    .colab-df-convert:hover {\n",
              "      background-color: #E2EBFA;\n",
              "      box-shadow: 0px 1px 2px rgba(60, 64, 67, 0.3), 0px 1px 3px 1px rgba(60, 64, 67, 0.15);\n",
              "      fill: #174EA6;\n",
              "    }\n",
              "\n",
              "    [theme=dark] .colab-df-convert {\n",
              "      background-color: #3B4455;\n",
              "      fill: #D2E3FC;\n",
              "    }\n",
              "\n",
              "    [theme=dark] .colab-df-convert:hover {\n",
              "      background-color: #434B5C;\n",
              "      box-shadow: 0px 1px 3px 1px rgba(0, 0, 0, 0.15);\n",
              "      filter: drop-shadow(0px 1px 2px rgba(0, 0, 0, 0.3));\n",
              "      fill: #FFFFFF;\n",
              "    }\n",
              "  </style>\n",
              "\n",
              "      <script>\n",
              "        const buttonEl =\n",
              "          document.querySelector('#df-5c7a3eb7-4f58-4af7-8699-4a437d939b8e button.colab-df-convert');\n",
              "        buttonEl.style.display =\n",
              "          google.colab.kernel.accessAllowed ? 'block' : 'none';\n",
              "\n",
              "        async function convertToInteractive(key) {\n",
              "          const element = document.querySelector('#df-5c7a3eb7-4f58-4af7-8699-4a437d939b8e');\n",
              "          const dataTable =\n",
              "            await google.colab.kernel.invokeFunction('convertToInteractive',\n",
              "                                                     [key], {});\n",
              "          if (!dataTable) return;\n",
              "\n",
              "          const docLinkHtml = 'Like what you see? Visit the ' +\n",
              "            '<a target=\"_blank\" href=https://colab.research.google.com/notebooks/data_table.ipynb>data table notebook</a>'\n",
              "            + ' to learn more about interactive tables.';\n",
              "          element.innerHTML = '';\n",
              "          dataTable['output_type'] = 'display_data';\n",
              "          await google.colab.output.renderOutput(dataTable, element);\n",
              "          const docLink = document.createElement('div');\n",
              "          docLink.innerHTML = docLinkHtml;\n",
              "          element.appendChild(docLink);\n",
              "        }\n",
              "      </script>\n",
              "    </div>\n",
              "  </div>\n",
              "  "
            ]
          },
          "metadata": {},
          "execution_count": 23
        }
      ]
    },
    {
      "cell_type": "code",
      "source": [
        "monthgap = 2.628e+15 #mese in nanosecondi\n",
        "eqGoodData =  eqGoodData[eqGoodData.gaps < monthgap] #rimuovo i gap superiori a un mese tra un terremoto e l'altro"
      ],
      "metadata": {
        "id": "jbcBlO77AGat"
      },
      "execution_count": 25,
      "outputs": []
    },
    {
      "cell_type": "code",
      "source": [
        "eqGoodData[\"gaps\"].plot(kind=\"hist\",logy=True)"
      ],
      "metadata": {
        "colab": {
          "base_uri": "https://localhost:8080/",
          "height": 295
        },
        "id": "Swvt1rjT-Gwy",
        "outputId": "57ddc62f-0aac-4355-de3f-eefa2c31bea9"
      },
      "execution_count": 26,
      "outputs": [
        {
          "output_type": "execute_result",
          "data": {
            "text/plain": [
              "<Axes: ylabel='Frequency'>"
            ]
          },
          "metadata": {},
          "execution_count": 26
        },
        {
          "output_type": "display_data",
          "data": {
            "text/plain": [
              "<Figure size 432x288 with 1 Axes>"
            ],
            "image/png": "[encoded data removed]"
          },
          "metadata": {
            "needs_background": "light"
          }
        }
      ]
    },
    {
      "cell_type": "code",
      "source": [
        "alpha = 0.003 #3sigma"
      ],
      "metadata": {
        "id": "xVRvDfF0Aj1s"
      },
      "execution_count": 27,
      "outputs": []
    },
    {
      "cell_type": "code",
      "source": [
        "import numpy as np\n",
        "t1 = eqGoodData[\"gaps\"][eqGoodData.MAG >=2]\n",
        "t2 = eqGoodData[\"gaps\"][eqGoodData.MAG >=2.5]\n",
        "#t1 = t1[t1 <3e16]\n",
        "sp.stats.ks_2samp(np.log10(t1), np.log10(t2))"
      ],
      "metadata": {
        "colab": {
          "base_uri": "https://localhost:8080/"
        },
        "id": "QaWFfiNvDXXP",
        "outputId": "983221fa-cb8b-45dc-ccdd-bc8b78c5b04b"
      },
      "execution_count": 28,
      "outputs": [
        {
          "output_type": "execute_result",
          "data": {
            "text/plain": [
              "KstestResult(statistic=0.027581930568767787, pvalue=0.0024725857409166265, statistic_location=12.4585124519953, statistic_sign=-1)"
            ]
          },
          "metadata": {},
          "execution_count": 28
        }
      ]
    },
    {
      "cell_type": "code",
      "source": [
        "pl.hist(t1, cumulative = True, alpha = 0.5, histtype= \"step\", density=1)\n",
        "pl.hist(t2, cumulative = True, alpha = 0.5, histtype= \"step\", density=1)"
      ],
      "metadata": {
        "colab": {
          "base_uri": "https://localhost:8080/",
          "height": 382
        },
        "id": "d1Wi6Lk8DubW",
        "outputId": "3bd27456-31d7-48b9-d074-242569846316"
      },
      "execution_count": 29,
      "outputs": [
        {
          "output_type": "execute_result",
          "data": {
            "text/plain": [
              "(array([0.7986014 , 0.93776224, 0.97902098, 0.99388112, 0.99772727,\n",
              "        0.99895105, 0.99947552, 0.99982517, 0.99982517, 1.        ]),\n",
              " array([1.70000000e+08, 2.36584280e+13, 4.73166860e+13, 7.09749440e+13,\n",
              "        9.46332020e+13, 1.18291460e+14, 1.41949718e+14, 1.65607976e+14,\n",
              "        1.89266234e+14, 2.12924492e+14, 2.36582750e+14]),\n",
              " [<matplotlib.patches.Polygon at 0x7f1e9e033a60>])"
            ]
          },
          "metadata": {},
          "execution_count": 29
        },
        {
          "output_type": "display_data",
          "data": {
            "text/plain": [
              "<Figure size 432x288 with 1 Axes>"
            ],
            "image/png": "[encoded data removed]"
          },
          "metadata": {
            "needs_background": "light"
          }
        }
      ]
    },
    {
      "cell_type": "code",
      "source": [
        "#delete\n",
        "def rescale(df, threshold=0.01):\n",
        "    times = [] # container for all arrays of rescaled time gaps (for 5 magnitude thresholds)\n",
        "    hss = [] # container for heights of histograms\n",
        "    binss = [] # container for bins of histograms\n",
        "\n",
        "    for m in [2, 2.5, 3, 3.5, 4]:\n",
        "        #select magnitude and convert to floating point numbers\n",
        "        tmp = df['datetime'][df.MAG >= m].diff().values[1:].astype(float)\n",
        "        print(\"original data size:\", len(tmp))\n",
        "    \n",
        "        tmp = tmp[tmp < 3e16] #cut outliers(optional)\n",
        "        print(\"removing time gaps that are too long. new size:\", len(tmp))\n",
        "   \n",
        "   #itetatu cuts for stability\n",
        "        rs = tmp.mean()\n",
        "        print(\"mean unrescaled time gap {:.3f}\".format(rs))\n",
        "        tmp = tmp[tmp / rs >= threshold] / rs #rescaling tramite la media\n",
        "        print(\"removing time gaps too small, first pass: new size\", len(tmp))\n",
        "   \n",
        "        rs = tmp.mean()\n",
        "        print(\"mean unrescaled time gap {:.3f}\".format(rs))\n",
        "        tmp = tmp[tmp / rs >= threshold] / rs\n",
        "        print(\"removing time gaps too small, second pass: new size\", len(tmp))\n",
        " \n",
        "        rs = tmp.mean()\n",
        "        print(\"mean unrescaled time gap {:.3f}\".format(rs))\n",
        "    \n",
        "        tmp = tmp / rs\n",
        "        print(\"  \")\n",
        "    \n",
        "        times.append(np.log10(tmp)) #conversione sul log\n",
        "    \n",
        "        #calculate the histogram of the last array of times (the one that you just calculated)\n",
        "        hs, bins, patch= pl.hist(times[-1], \n",
        "                             cumulative=True, density=1, histtype=\"step\", label=\"mag > %.1f\"%m)\n",
        "        hss.append(hs)\n",
        "        binss.append(bins)\n",
        "\n",
        "    pl.legend(fontsize=10)\n",
        "    pl.xlabel(\"x (normalized time gap)\")\n",
        "    pl.ylabel(\"P(gap > x)\")\n",
        "    return binss, hss, times\n",
        "  \n",
        "binss, hss, times = rescale(eqGoodData, threshold=0.01)"
      ],
      "metadata": {
        "colab": {
          "base_uri": "https://localhost:8080/",
          "height": 973
        },
        "id": "TszAoFvLEjA_",
        "outputId": "3606ef2c-f7c3-4c13-c753-4cda4ccdf406"
      },
      "execution_count": 30,
      "outputs": [
        {
          "output_type": "stream",
          "name": "stdout",
          "text": [
            "original data size: 18840\n",
            "removing time gaps that are too long. new size: 18837\n",
            "mean unrescaled time gap 19250664939215.375\n",
            "removing time gaps too small, first pass: new size 17850\n",
            "mean unrescaled time gap 1.055\n",
            "removing time gaps too small, second pass: new size 17821\n",
            "mean unrescaled time gap 1.002\n",
            "  \n",
            "original data size: 5719\n",
            "removing time gaps that are too long. new size: 5716\n",
            "mean unrescaled time gap 63383511726731.977\n",
            "removing time gaps too small, first pass: new size 5339\n",
            "mean unrescaled time gap 1.070\n",
            "removing time gaps too small, second pass: new size 5319\n",
            "mean unrescaled time gap 1.004\n",
            "  \n",
            "original data size: 1463\n",
            "removing time gaps that are too long. new size: 1460\n",
            "mean unrescaled time gap 247595145239726.031\n",
            "removing time gaps too small, first pass: new size 1322\n",
            "mean unrescaled time gap 1.104\n",
            "removing time gaps too small, second pass: new size 1318\n",
            "mean unrescaled time gap 1.003\n",
            "  \n",
            "original data size: 428\n",
            "removing time gaps that are too long. new size: 425\n",
            "mean unrescaled time gap 842292184823529.375\n",
            "removing time gaps too small, first pass: new size 377\n",
            "mean unrescaled time gap 1.127\n",
            "removing time gaps too small, second pass: new size 374\n",
            "mean unrescaled time gap 1.008\n",
            "  \n",
            "original data size: 119\n",
            "removing time gaps that are too long. new size: 116\n",
            "mean unrescaled time gap 2950855345775862.000\n",
            "removing time gaps too small, first pass: new size 103\n",
            "mean unrescaled time gap 1.126\n",
            "removing time gaps too small, second pass: new size 103\n",
            "mean unrescaled time gap 1.000\n",
            "  \n"
          ]
        },
        {
          "output_type": "display_data",
          "data": {
            "text/plain": [
              "<Figure size 432x288 with 1 Axes>"
            ],
            "image/png": "[encoded data removed]"
          },
          "metadata": {
            "needs_background": "light"
          }
        }
      ]
    },
    {
      "cell_type": "code",
      "source": [
        "mags = [2, 2.5, 3, 3.5, 4]\n",
        "for i in range(5):\n",
        "  for j in range(i+1, 5):\n",
        "    tmp = sp.stats.ks_2samp(times[i], times[j])\n",
        "    print(mags[i], mags[j], \"{:.3f}\".format(tmp[1]))"
      ],
      "metadata": {
        "colab": {
          "base_uri": "https://localhost:8080/"
        },
        "id": "YntXFAVfFRQz",
        "outputId": "0f39e2aa-6f30-4423-9a16-a2a0e0c6ed56"
      },
      "execution_count": 31,
      "outputs": [
        {
          "output_type": "stream",
          "name": "stdout",
          "text": [
            "2 2.5 0.118\n",
            "2 3 0.583\n",
            "2 3.5 0.868\n",
            "2 4 0.409\n",
            "2.5 3 0.298\n",
            "2.5 3.5 0.651\n",
            "2.5 4 0.244\n",
            "3 3.5 0.586\n",
            "3 4 0.578\n",
            "3.5 4 0.481\n"
          ]
        }
      ]
    },
    {
      "cell_type": "code",
      "source": [],
      "metadata": {
        "id": "NUkTwGxtGa00"
      },
      "execution_count": 31,
      "outputs": []
    }
  ]
}